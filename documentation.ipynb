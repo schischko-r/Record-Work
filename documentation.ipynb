{
 "cells": [
  {
   "cell_type": "markdown",
   "metadata": {},
   "source": [
    "<center> <h1> Библиотека Pandas </h1> <center>"
   ]
  },
  {
   "cell_type": "markdown",
   "metadata": {},
   "source": [
    "Цель данной зачетной работы — изучить библиотеку и на практических примерах программного кода проиллюстрировать её использование. Использоваться будет библиотека Pandas. Pandas - библиотека, ориентированная на обработке и анализе данных, поэтому для иллюстрации понадобятся исходные данные для анализа.  \n",
    "\n",
    "Мы будем использовать три датасета для разных целей:\n",
    "- <a href='#set1'><h4>Данные о пассажирах Титаника, обработав которые через Pandas, в связке с библиотекой sklearn, мы сможем попробовать предсказать вероятность выживания для заданного пассажира, используя машинное обучение</h4></a>\n",
    "- <a href='#set2'><h4>Данные об исследуемой экосистеме в южной Аризоне, которые мы обработаем и визуализируем в связке с библиотекой matplotlib/seaborn</h4></a>\n",
    "- <a href='#set3'><h4>•\tДанные о книгах, находящихся в Британской Библиотеке, в которых нужно будет откорректировать некачественные/неверные данные</h4></a>\n",
    "\n"
   ]
  },
  {
   "cell_type": "markdown",
   "metadata": {},
   "source": [
    "<p><center>Краткий список команд, использованных в данной работе:</center></p>\n",
    "\n",
    "<table>\n",
    "    <tr><td><a href='#read_csv'><center>read_csv</center></a></td><td><a href='#head'><center>head</center></a></td>\n",
    "    <td><a href='#shape'><center>shape</center></a></td><td><a href='#info'><center>info</center></a></td>\n",
    "    <td><a href='#groupby'><center>groupby</center></a></td><td><a href='#sum'><center>sum</center></a></td>\n",
    "    <td><a href='#sort_values'><center>sort_values</center></a></td><td><a href='#tail'><center>tail</center></a></td></tr>\n",
    "    <tr><td><a href='#mean'><center>mean</center></a></td><td><a href='#describe'><center>describe</center></a></td>\n",
    "    <td><a href='#index'><center>index</center></a></td><td><a href='#loc'><center>loc</center></a></td>\n",
    "    <td><a href='#value_counts'><center>value_counts</center></a></td><td><a href='#sample'><center>sample</center></a></td>\n",
    "    <td><a href='#to_datetime'><center>to_datetime</center></a></td><td><a href='#dropna'><center>dropna</center></a></td></tr>\n",
    "    <tr><td><a href='#fillna'><center>fillna</center></a></td><td><a href='#unique'><center>unique</center></a></td>\n",
    "    <td><a href='#nunique'><center>nunique</center></a></td><td><a href='#crosstab'><center>crosstab</center></a></td>\n",
    "    <td><a href='#to_numeric'><center>to_numeric</center></a></td><td><a href='#isnull'><center>isnull</center></a></td>\n",
    "    <td><a href='#drop'><center>drop</center></a></td><td><a href='#median'><center>median</center></a></td></tr>\n",
    "</table>\n",
    "\n"
   ]
  },
  {
   "cell_type": "markdown",
   "metadata": {},
   "source": [
    "Для импорта данных будет использоваться функция **read_csv()**, которая принимает путь к файлу, а также может принимать параметры:\n",
    "- *sep* — отвечает за разделитель, используемый в документе\n",
    "- *index_col* — отвечает за номер колонки, которая будет использоваться для индексации данных\n",
    "- *skip_blank_lines* — отвечает за пропуск пустых строк, принимает значение True/False\n",
    "- *encoding* — отвечает за кодировку файла, принимает её имя\n",
    "<br>...и прочие;\n",
    "\n",
    "<a id='read_csv'></a>\n",
    "<a id='head'></a>\n",
    "### read_csv ( ), head ( ) ### \n",
    "*Сама функция **read_csv()** возвращает объект типа dataframe, который является табличной структурой данных (каждая строка/столбец является объектом типа Series), a метод **.head()** отвечает за вывод шапки исходных данных*"
   ]
  },
  {
   "cell_type": "markdown",
   "metadata": {},
   "source": [
    "<a id='set1'></a>\n",
    "<center><h1> Возьмем первый массив данных</h1><center>"
   ]
  },
  {
   "cell_type": "markdown",
   "metadata": {},
   "source": [
    "*Этот датасет содержит данные о всех пассажирах Титаника, находящихся на борту во время катастрофы*"
   ]
  },
  {
   "cell_type": "code",
   "execution_count": 103,
   "metadata": {},
   "outputs": [],
   "source": [
    "import pandas as pd\n",
    "import numpy as np\n",
    "import matplotlib.pyplot as plt\n",
    "import sklearn.ensemble as ensemble\n",
    "import sklearn.model_selection as model_selection\n",
    "import joblib as joblib\n",
    "import seaborn"
   ]
  },
  {
   "cell_type": "code",
   "execution_count": 104,
   "metadata": {},
   "outputs": [
    {
     "data": {
      "text/html": [
       "<div>\n",
       "<style scoped>\n",
       "    .dataframe tbody tr th:only-of-type {\n",
       "        vertical-align: middle;\n",
       "    }\n",
       "\n",
       "    .dataframe tbody tr th {\n",
       "        vertical-align: top;\n",
       "    }\n",
       "\n",
       "    .dataframe thead th {\n",
       "        text-align: right;\n",
       "    }\n",
       "</style>\n",
       "<table border=\"1\" class=\"dataframe\">\n",
       "  <thead>\n",
       "    <tr style=\"text-align: right;\">\n",
       "      <th></th>\n",
       "      <th>id</th>\n",
       "      <th>pclass</th>\n",
       "      <th>survived</th>\n",
       "      <th>name</th>\n",
       "      <th>age</th>\n",
       "      <th>embarked</th>\n",
       "      <th>home.dest</th>\n",
       "      <th>room</th>\n",
       "      <th>ticket</th>\n",
       "      <th>boat</th>\n",
       "      <th>sex</th>\n",
       "    </tr>\n",
       "    <tr>\n",
       "      <th>row.names</th>\n",
       "      <th></th>\n",
       "      <th></th>\n",
       "      <th></th>\n",
       "      <th></th>\n",
       "      <th></th>\n",
       "      <th></th>\n",
       "      <th></th>\n",
       "      <th></th>\n",
       "      <th></th>\n",
       "      <th></th>\n",
       "      <th></th>\n",
       "    </tr>\n",
       "  </thead>\n",
       "  <tbody>\n",
       "    <tr>\n",
       "      <th>999</th>\n",
       "      <td>998</td>\n",
       "      <td>3rd</td>\n",
       "      <td>1</td>\n",
       "      <td>McCarthy, Miss Katie</td>\n",
       "      <td>NaN</td>\n",
       "      <td>NaN</td>\n",
       "      <td>NaN</td>\n",
       "      <td>NaN</td>\n",
       "      <td>NaN</td>\n",
       "      <td>NaN</td>\n",
       "      <td>female</td>\n",
       "    </tr>\n",
       "    <tr>\n",
       "      <th>180</th>\n",
       "      <td>179</td>\n",
       "      <td>1st</td>\n",
       "      <td>0</td>\n",
       "      <td>Millet, Mr Francis Davis</td>\n",
       "      <td>65.0</td>\n",
       "      <td>Southampton</td>\n",
       "      <td>East Bridgewater, MA</td>\n",
       "      <td>NaN</td>\n",
       "      <td>NaN</td>\n",
       "      <td>(249)</td>\n",
       "      <td>male</td>\n",
       "    </tr>\n",
       "    <tr>\n",
       "      <th>557</th>\n",
       "      <td>556</td>\n",
       "      <td>2nd</td>\n",
       "      <td>0</td>\n",
       "      <td>Sjostedt, Mr Ernst Adolf</td>\n",
       "      <td>59.0</td>\n",
       "      <td>Southampton</td>\n",
       "      <td>Sault St Marie, ON</td>\n",
       "      <td>NaN</td>\n",
       "      <td>NaN</td>\n",
       "      <td>NaN</td>\n",
       "      <td>male</td>\n",
       "    </tr>\n",
       "    <tr>\n",
       "      <th>175</th>\n",
       "      <td>174</td>\n",
       "      <td>1st</td>\n",
       "      <td>0</td>\n",
       "      <td>McCaffry, Mr Thomas Francis</td>\n",
       "      <td>46.0</td>\n",
       "      <td>Cherbourg</td>\n",
       "      <td>Vancouver, BC</td>\n",
       "      <td>NaN</td>\n",
       "      <td>NaN</td>\n",
       "      <td>(292)</td>\n",
       "      <td>male</td>\n",
       "    </tr>\n",
       "    <tr>\n",
       "      <th>1233</th>\n",
       "      <td>1232</td>\n",
       "      <td>3rd</td>\n",
       "      <td>0</td>\n",
       "      <td>Strilic, Mr Ivan</td>\n",
       "      <td>NaN</td>\n",
       "      <td>NaN</td>\n",
       "      <td>NaN</td>\n",
       "      <td>NaN</td>\n",
       "      <td>NaN</td>\n",
       "      <td>NaN</td>\n",
       "      <td>male</td>\n",
       "    </tr>\n",
       "  </tbody>\n",
       "</table>\n",
       "</div>"
      ],
      "text/plain": [
       "             id pclass  survived                         name   age  \\\n",
       "row.names                                                             \n",
       "999         998    3rd         1         McCarthy, Miss Katie   NaN   \n",
       "180         179    1st         0     Millet, Mr Francis Davis  65.0   \n",
       "557         556    2nd         0     Sjostedt, Mr Ernst Adolf  59.0   \n",
       "175         174    1st         0  McCaffry, Mr Thomas Francis  46.0   \n",
       "1233       1232    3rd         0             Strilic, Mr Ivan   NaN   \n",
       "\n",
       "              embarked             home.dest room ticket   boat     sex  \n",
       "row.names                                                                \n",
       "999                NaN                   NaN  NaN    NaN    NaN  female  \n",
       "180        Southampton  East Bridgewater, MA  NaN    NaN  (249)    male  \n",
       "557        Southampton    Sault St Marie, ON  NaN    NaN    NaN    male  \n",
       "175          Cherbourg         Vancouver, BC  NaN    NaN  (292)    male  \n",
       "1233               NaN                   NaN  NaN    NaN    NaN    male  "
      ]
     },
     "execution_count": 104,
     "metadata": {},
     "output_type": "execute_result"
    }
   ],
   "source": [
    "dataset = pd.read_csv('./data/1_titanic/titanic.csv', encoding='utf-8', index_col=[1], parse_dates=True)\n",
    "dataset.head()"
   ]
  },
  {
   "cell_type": "markdown",
   "metadata": {},
   "source": [
    "<a id='shape'></a>\n",
    "### .shape  ###\n",
    "*Возвращает размерность массива данных:*"
   ]
  },
  {
   "cell_type": "code",
   "execution_count": 105,
   "metadata": {},
   "outputs": [
    {
     "data": {
      "text/plain": [
       "(919, 11)"
      ]
     },
     "execution_count": 105,
     "metadata": {},
     "output_type": "execute_result"
    }
   ],
   "source": [
    "dataset.shape"
   ]
  },
  {
   "cell_type": "markdown",
   "metadata": {},
   "source": [
    "*Датасет является таблицей, состоящей из 919 строк и 11 столбцов*\n",
    "\n",
    "Мы также можем получить более подробную информацию о типах данных, как всего массива данных, так и конкретных столбцов:"
   ]
  },
  {
   "cell_type": "code",
   "execution_count": 106,
   "metadata": {},
   "outputs": [
    {
     "data": {
      "text/plain": [
       "pandas.core.frame.DataFrame"
      ]
     },
     "execution_count": 106,
     "metadata": {},
     "output_type": "execute_result"
    }
   ],
   "source": [
    "type(dataset)"
   ]
  },
  {
   "cell_type": "code",
   "execution_count": 107,
   "metadata": {},
   "outputs": [
    {
     "data": {
      "text/plain": [
       "pandas.core.series.Series"
      ]
     },
     "execution_count": 107,
     "metadata": {},
     "output_type": "execute_result"
    }
   ],
   "source": [
    "type(dataset['name'])"
   ]
  },
  {
   "cell_type": "markdown",
   "metadata": {},
   "source": [
    "<a id='info'></a>\n",
    "### .info( ) ###\n",
    "*Возвращает данные по столбцам:*"
   ]
  },
  {
   "cell_type": "code",
   "execution_count": 108,
   "metadata": {},
   "outputs": [
    {
     "name": "stdout",
     "output_type": "stream",
     "text": [
      "<class 'pandas.core.frame.DataFrame'>\n",
      "Int64Index: 919 entries, 999 to 671\n",
      "Data columns (total 11 columns):\n",
      "id           919 non-null int64\n",
      "pclass       919 non-null object\n",
      "survived     919 non-null int64\n",
      "name         919 non-null object\n",
      "age          439 non-null float64\n",
      "embarked     571 non-null object\n",
      "home.dest    531 non-null object\n",
      "room         48 non-null object\n",
      "ticket       46 non-null object\n",
      "boat         233 non-null object\n",
      "sex          919 non-null object\n",
      "dtypes: float64(1), int64(2), object(8)\n",
      "memory usage: 86.2+ KB\n"
     ]
    }
   ],
   "source": [
    "dataset.info()"
   ]
  },
  {
   "cell_type": "markdown",
   "metadata": {},
   "source": [
    "<a id='drop'></a>\n",
    "### .drop( ) ###\n",
    "*Удаляет столбец массива:*\n",
    "\n",
    "***Удалим столбец \"id\", дабы оставить только индексы, которые указывают на номер каюты:***"
   ]
  },
  {
   "cell_type": "code",
   "execution_count": 109,
   "metadata": {},
   "outputs": [
    {
     "data": {
      "text/html": [
       "<div>\n",
       "<style scoped>\n",
       "    .dataframe tbody tr th:only-of-type {\n",
       "        vertical-align: middle;\n",
       "    }\n",
       "\n",
       "    .dataframe tbody tr th {\n",
       "        vertical-align: top;\n",
       "    }\n",
       "\n",
       "    .dataframe thead th {\n",
       "        text-align: right;\n",
       "    }\n",
       "</style>\n",
       "<table border=\"1\" class=\"dataframe\">\n",
       "  <thead>\n",
       "    <tr style=\"text-align: right;\">\n",
       "      <th></th>\n",
       "      <th>pclass</th>\n",
       "      <th>survived</th>\n",
       "      <th>name</th>\n",
       "      <th>age</th>\n",
       "      <th>embarked</th>\n",
       "      <th>home.dest</th>\n",
       "      <th>room</th>\n",
       "      <th>ticket</th>\n",
       "      <th>boat</th>\n",
       "      <th>sex</th>\n",
       "    </tr>\n",
       "    <tr>\n",
       "      <th>row.names</th>\n",
       "      <th></th>\n",
       "      <th></th>\n",
       "      <th></th>\n",
       "      <th></th>\n",
       "      <th></th>\n",
       "      <th></th>\n",
       "      <th></th>\n",
       "      <th></th>\n",
       "      <th></th>\n",
       "      <th></th>\n",
       "    </tr>\n",
       "  </thead>\n",
       "  <tbody>\n",
       "    <tr>\n",
       "      <th>999</th>\n",
       "      <td>3rd</td>\n",
       "      <td>1</td>\n",
       "      <td>McCarthy, Miss Katie</td>\n",
       "      <td>NaN</td>\n",
       "      <td>NaN</td>\n",
       "      <td>NaN</td>\n",
       "      <td>NaN</td>\n",
       "      <td>NaN</td>\n",
       "      <td>NaN</td>\n",
       "      <td>female</td>\n",
       "    </tr>\n",
       "    <tr>\n",
       "      <th>180</th>\n",
       "      <td>1st</td>\n",
       "      <td>0</td>\n",
       "      <td>Millet, Mr Francis Davis</td>\n",
       "      <td>65.0</td>\n",
       "      <td>Southampton</td>\n",
       "      <td>East Bridgewater, MA</td>\n",
       "      <td>NaN</td>\n",
       "      <td>NaN</td>\n",
       "      <td>(249)</td>\n",
       "      <td>male</td>\n",
       "    </tr>\n",
       "    <tr>\n",
       "      <th>557</th>\n",
       "      <td>2nd</td>\n",
       "      <td>0</td>\n",
       "      <td>Sjostedt, Mr Ernst Adolf</td>\n",
       "      <td>59.0</td>\n",
       "      <td>Southampton</td>\n",
       "      <td>Sault St Marie, ON</td>\n",
       "      <td>NaN</td>\n",
       "      <td>NaN</td>\n",
       "      <td>NaN</td>\n",
       "      <td>male</td>\n",
       "    </tr>\n",
       "    <tr>\n",
       "      <th>175</th>\n",
       "      <td>1st</td>\n",
       "      <td>0</td>\n",
       "      <td>McCaffry, Mr Thomas Francis</td>\n",
       "      <td>46.0</td>\n",
       "      <td>Cherbourg</td>\n",
       "      <td>Vancouver, BC</td>\n",
       "      <td>NaN</td>\n",
       "      <td>NaN</td>\n",
       "      <td>(292)</td>\n",
       "      <td>male</td>\n",
       "    </tr>\n",
       "    <tr>\n",
       "      <th>1233</th>\n",
       "      <td>3rd</td>\n",
       "      <td>0</td>\n",
       "      <td>Strilic, Mr Ivan</td>\n",
       "      <td>NaN</td>\n",
       "      <td>NaN</td>\n",
       "      <td>NaN</td>\n",
       "      <td>NaN</td>\n",
       "      <td>NaN</td>\n",
       "      <td>NaN</td>\n",
       "      <td>male</td>\n",
       "    </tr>\n",
       "  </tbody>\n",
       "</table>\n",
       "</div>"
      ],
      "text/plain": [
       "          pclass  survived                         name   age     embarked  \\\n",
       "row.names                                                                    \n",
       "999          3rd         1         McCarthy, Miss Katie   NaN          NaN   \n",
       "180          1st         0     Millet, Mr Francis Davis  65.0  Southampton   \n",
       "557          2nd         0     Sjostedt, Mr Ernst Adolf  59.0  Southampton   \n",
       "175          1st         0  McCaffry, Mr Thomas Francis  46.0    Cherbourg   \n",
       "1233         3rd         0             Strilic, Mr Ivan   NaN          NaN   \n",
       "\n",
       "                      home.dest room ticket   boat     sex  \n",
       "row.names                                                   \n",
       "999                         NaN  NaN    NaN    NaN  female  \n",
       "180        East Bridgewater, MA  NaN    NaN  (249)    male  \n",
       "557          Sault St Marie, ON  NaN    NaN    NaN    male  \n",
       "175               Vancouver, BC  NaN    NaN  (292)    male  \n",
       "1233                        NaN  NaN    NaN    NaN    male  "
      ]
     },
     "execution_count": 109,
     "metadata": {},
     "output_type": "execute_result"
    }
   ],
   "source": [
    "dataset = dataset.drop('id', 1)\n",
    "dataset.head(5)"
   ]
  },
  {
   "cell_type": "markdown",
   "metadata": {},
   "source": [
    "<a id='groupby'></a>\n",
    "### .groupby( ) ###\n",
    "*Группирует данные в таблице по значению индекса:*\n",
    "<a id='sum'></a>\n",
    "### .sum( ) ###\n",
    "*Суммирует данные в таблице по значению индекса:*\n",
    "<a id='sort_values'></a>\n",
    "### .sort_values( ) ###\n",
    "*Сортирует данные:*"
   ]
  },
  {
   "cell_type": "markdown",
   "metadata": {},
   "source": [
    "***Посмотрим, какое количество пассажиров выжило в каждом классе:***"
   ]
  },
  {
   "cell_type": "code",
   "execution_count": 110,
   "metadata": {},
   "outputs": [
    {
     "data": {
      "text/plain": [
       "pclass\n",
       "2nd     86\n",
       "3rd     97\n",
       "1st    132\n",
       "Name: survived, dtype: int64"
      ]
     },
     "execution_count": 110,
     "metadata": {},
     "output_type": "execute_result"
    }
   ],
   "source": [
    "dataset.groupby(['pclass'])['survived'].sum().sort_values()"
   ]
  },
  {
   "cell_type": "markdown",
   "metadata": {},
   "source": [
    "<a id='value_counts'></a>\n",
    "### .value_counts( )###\n",
    "*Подсчитывает какое количество раз встречалось то или иное значение:*\n",
    "\n",
    "***Выведем общее количество пассажиров по классам***"
   ]
  },
  {
   "cell_type": "code",
   "execution_count": 111,
   "metadata": {},
   "outputs": [
    {
     "data": {
      "text/plain": [
       "3rd    494\n",
       "1st    228\n",
       "2nd    197\n",
       "Name: pclass, dtype: int64"
      ]
     },
     "execution_count": 111,
     "metadata": {},
     "output_type": "execute_result"
    }
   ],
   "source": [
    "dataset['pclass'].value_counts().head(5)"
   ]
  },
  {
   "cell_type": "markdown",
   "metadata": {},
   "source": [
    "\n",
    "\n",
    "<a id='tail'></a>\n",
    "### .tail( ) ###\n",
    "*Возвращает последние элементы массива данных*\n",
    "\n",
    "***Выделим в отдельный датасет всех мужчин:***"
   ]
  },
  {
   "cell_type": "code",
   "execution_count": 112,
   "metadata": {},
   "outputs": [
    {
     "data": {
      "text/html": [
       "<div>\n",
       "<style scoped>\n",
       "    .dataframe tbody tr th:only-of-type {\n",
       "        vertical-align: middle;\n",
       "    }\n",
       "\n",
       "    .dataframe tbody tr th {\n",
       "        vertical-align: top;\n",
       "    }\n",
       "\n",
       "    .dataframe thead th {\n",
       "        text-align: right;\n",
       "    }\n",
       "</style>\n",
       "<table border=\"1\" class=\"dataframe\">\n",
       "  <thead>\n",
       "    <tr style=\"text-align: right;\">\n",
       "      <th></th>\n",
       "      <th>pclass</th>\n",
       "      <th>survived</th>\n",
       "      <th>name</th>\n",
       "      <th>age</th>\n",
       "      <th>embarked</th>\n",
       "      <th>home.dest</th>\n",
       "      <th>room</th>\n",
       "      <th>ticket</th>\n",
       "      <th>boat</th>\n",
       "      <th>sex</th>\n",
       "    </tr>\n",
       "    <tr>\n",
       "      <th>row.names</th>\n",
       "      <th></th>\n",
       "      <th></th>\n",
       "      <th></th>\n",
       "      <th></th>\n",
       "      <th></th>\n",
       "      <th></th>\n",
       "      <th></th>\n",
       "      <th></th>\n",
       "      <th></th>\n",
       "      <th></th>\n",
       "    </tr>\n",
       "  </thead>\n",
       "  <tbody>\n",
       "    <tr>\n",
       "      <th>1267</th>\n",
       "      <td>3rd</td>\n",
       "      <td>0</td>\n",
       "      <td>Van Billiard, Mr Austin Blyler</td>\n",
       "      <td>NaN</td>\n",
       "      <td>NaN</td>\n",
       "      <td>NaN</td>\n",
       "      <td>NaN</td>\n",
       "      <td>NaN</td>\n",
       "      <td>NaN</td>\n",
       "      <td>male</td>\n",
       "    </tr>\n",
       "    <tr>\n",
       "      <th>1247</th>\n",
       "      <td>3rd</td>\n",
       "      <td>0</td>\n",
       "      <td>Thomas, Mr Charles</td>\n",
       "      <td>NaN</td>\n",
       "      <td>NaN</td>\n",
       "      <td>NaN</td>\n",
       "      <td>NaN</td>\n",
       "      <td>NaN</td>\n",
       "      <td>NaN</td>\n",
       "      <td>male</td>\n",
       "    </tr>\n",
       "    <tr>\n",
       "      <th>671</th>\n",
       "      <td>3rd</td>\n",
       "      <td>0</td>\n",
       "      <td>Bengtsson, Mr John Viktor</td>\n",
       "      <td>26.0</td>\n",
       "      <td>Southampton</td>\n",
       "      <td>Krakudden, Sweden Moune, IL</td>\n",
       "      <td>NaN</td>\n",
       "      <td>NaN</td>\n",
       "      <td>NaN</td>\n",
       "      <td>male</td>\n",
       "    </tr>\n",
       "  </tbody>\n",
       "</table>\n",
       "</div>"
      ],
      "text/plain": [
       "          pclass  survived                            name   age     embarked  \\\n",
       "row.names                                                                       \n",
       "1267         3rd         0  Van Billiard, Mr Austin Blyler   NaN          NaN   \n",
       "1247         3rd         0              Thomas, Mr Charles   NaN          NaN   \n",
       "671          3rd         0       Bengtsson, Mr John Viktor  26.0  Southampton   \n",
       "\n",
       "                             home.dest room ticket boat   sex  \n",
       "row.names                                                      \n",
       "1267                               NaN  NaN    NaN  NaN  male  \n",
       "1247                               NaN  NaN    NaN  NaN  male  \n",
       "671        Krakudden, Sweden Moune, IL  NaN    NaN  NaN  male  "
      ]
     },
     "execution_count": 112,
     "metadata": {},
     "output_type": "execute_result"
    }
   ],
   "source": [
    "men = dataset[dataset['sex'] == 'male']\n",
    "men.tail(3)"
   ]
  },
  {
   "cell_type": "markdown",
   "metadata": {},
   "source": [
    "<a id='mean'></a>\n",
    "### .mean( ) ###\n",
    "*Возвращает средние значения:*"
   ]
  },
  {
   "cell_type": "code",
   "execution_count": 113,
   "metadata": {},
   "outputs": [
    {
     "data": {
      "text/plain": [
       "survived     0.182566\n",
       "age         31.064448\n",
       "dtype: float64"
      ]
     },
     "execution_count": 113,
     "metadata": {},
     "output_type": "execute_result"
    }
   ],
   "source": [
    "men.mean()"
   ]
  },
  {
   "cell_type": "markdown",
   "metadata": {},
   "source": [
    "***Заметим, что выжило всего 18% мужчин, а средний возраст мужчин был 31***"
   ]
  },
  {
   "cell_type": "markdown",
   "metadata": {},
   "source": [
    "<a id='describe'></a>\n",
    "### .describe( ) ###\n",
    "*Возвращаетчисленную статистику массива данных*"
   ]
  },
  {
   "cell_type": "code",
   "execution_count": 114,
   "metadata": {},
   "outputs": [
    {
     "data": {
      "text/plain": [
       "count    278.000000\n",
       "mean      31.064448\n",
       "std       15.085240\n",
       "min        0.333300\n",
       "25%       22.000000\n",
       "50%       28.500000\n",
       "75%       40.000000\n",
       "max       71.000000\n",
       "Name: age, dtype: float64"
      ]
     },
     "execution_count": 114,
     "metadata": {},
     "output_type": "execute_result"
    }
   ],
   "source": [
    "men['age'].describe()"
   ]
  },
  {
   "cell_type": "markdown",
   "metadata": {},
   "source": [
    "***Максимальный возраст был 71 год, а минимальный был 4 месяца***"
   ]
  },
  {
   "cell_type": "markdown",
   "metadata": {},
   "source": [
    "<a id='index'></a>\n",
    "### .index ###\n",
    "*Возвращает значения, по которым индексирован наш массив данных.* "
   ]
  },
  {
   "cell_type": "code",
   "execution_count": 115,
   "metadata": {},
   "outputs": [
    {
     "data": {
      "text/plain": [
       "Int64Index([ 180,  557,  175, 1233,  731,  118,  755,  162,  535,  337,\n",
       "            ...\n",
       "             457,  431, 1148,  355, 1212,  825,  635, 1267, 1247,  671],\n",
       "           dtype='int64', name='row.names', length=608)"
      ]
     },
     "execution_count": 115,
     "metadata": {},
     "output_type": "execute_result"
    }
   ],
   "source": [
    "men.index"
   ]
  },
  {
   "cell_type": "markdown",
   "metadata": {},
   "source": [
    "***Так как наши данные проиндексированы по номеру каюты, можем вывести данные, по этому номеру:***\n",
    "\n",
    "<a id='loc'></a>\n",
    "### .loc[ ] ###\n",
    "*Ищет элементы массива данных по индексу*"
   ]
  },
  {
   "cell_type": "code",
   "execution_count": 116,
   "metadata": {},
   "outputs": [
    {
     "data": {
      "text/plain": [
       "65.0"
      ]
     },
     "execution_count": 116,
     "metadata": {},
     "output_type": "execute_result"
    }
   ],
   "source": [
    "men.loc[180]['age']"
   ]
  },
  {
   "cell_type": "markdown",
   "metadata": {},
   "source": [
    "***Как мы видим, пассажиру из 180-ой каюты было 65 лет***"
   ]
  },
  {
   "cell_type": "markdown",
   "metadata": {},
   "source": [
    "***Также Pandas позволяет как добавлять:***"
   ]
  },
  {
   "cell_type": "code",
   "execution_count": 117,
   "metadata": {},
   "outputs": [
    {
     "data": {
      "text/html": [
       "<div>\n",
       "<style scoped>\n",
       "    .dataframe tbody tr th:only-of-type {\n",
       "        vertical-align: middle;\n",
       "    }\n",
       "\n",
       "    .dataframe tbody tr th {\n",
       "        vertical-align: top;\n",
       "    }\n",
       "\n",
       "    .dataframe thead th {\n",
       "        text-align: right;\n",
       "    }\n",
       "</style>\n",
       "<table border=\"1\" class=\"dataframe\">\n",
       "  <thead>\n",
       "    <tr style=\"text-align: right;\">\n",
       "      <th></th>\n",
       "      <th>pclass</th>\n",
       "      <th>survived</th>\n",
       "      <th>name</th>\n",
       "      <th>age</th>\n",
       "      <th>embarked</th>\n",
       "      <th>home.dest</th>\n",
       "      <th>room</th>\n",
       "      <th>ticket</th>\n",
       "      <th>boat</th>\n",
       "      <th>sex</th>\n",
       "      <th>Column-1</th>\n",
       "    </tr>\n",
       "    <tr>\n",
       "      <th>row.names</th>\n",
       "      <th></th>\n",
       "      <th></th>\n",
       "      <th></th>\n",
       "      <th></th>\n",
       "      <th></th>\n",
       "      <th></th>\n",
       "      <th></th>\n",
       "      <th></th>\n",
       "      <th></th>\n",
       "      <th></th>\n",
       "      <th></th>\n",
       "    </tr>\n",
       "  </thead>\n",
       "  <tbody>\n",
       "    <tr>\n",
       "      <th>999</th>\n",
       "      <td>3rd</td>\n",
       "      <td>1</td>\n",
       "      <td>McCarthy, Miss Katie</td>\n",
       "      <td>NaN</td>\n",
       "      <td>NaN</td>\n",
       "      <td>NaN</td>\n",
       "      <td>NaN</td>\n",
       "      <td>NaN</td>\n",
       "      <td>NaN</td>\n",
       "      <td>female</td>\n",
       "      <td>Custom Column</td>\n",
       "    </tr>\n",
       "    <tr>\n",
       "      <th>180</th>\n",
       "      <td>1st</td>\n",
       "      <td>0</td>\n",
       "      <td>Millet, Mr Francis Davis</td>\n",
       "      <td>65.0</td>\n",
       "      <td>Southampton</td>\n",
       "      <td>East Bridgewater, MA</td>\n",
       "      <td>NaN</td>\n",
       "      <td>NaN</td>\n",
       "      <td>(249)</td>\n",
       "      <td>male</td>\n",
       "      <td>Custom Column</td>\n",
       "    </tr>\n",
       "    <tr>\n",
       "      <th>557</th>\n",
       "      <td>2nd</td>\n",
       "      <td>0</td>\n",
       "      <td>Sjostedt, Mr Ernst Adolf</td>\n",
       "      <td>59.0</td>\n",
       "      <td>Southampton</td>\n",
       "      <td>Sault St Marie, ON</td>\n",
       "      <td>NaN</td>\n",
       "      <td>NaN</td>\n",
       "      <td>NaN</td>\n",
       "      <td>male</td>\n",
       "      <td>Custom Column</td>\n",
       "    </tr>\n",
       "    <tr>\n",
       "      <th>175</th>\n",
       "      <td>1st</td>\n",
       "      <td>0</td>\n",
       "      <td>McCaffry, Mr Thomas Francis</td>\n",
       "      <td>46.0</td>\n",
       "      <td>Cherbourg</td>\n",
       "      <td>Vancouver, BC</td>\n",
       "      <td>NaN</td>\n",
       "      <td>NaN</td>\n",
       "      <td>(292)</td>\n",
       "      <td>male</td>\n",
       "      <td>Custom Column</td>\n",
       "    </tr>\n",
       "    <tr>\n",
       "      <th>1233</th>\n",
       "      <td>3rd</td>\n",
       "      <td>0</td>\n",
       "      <td>Strilic, Mr Ivan</td>\n",
       "      <td>NaN</td>\n",
       "      <td>NaN</td>\n",
       "      <td>NaN</td>\n",
       "      <td>NaN</td>\n",
       "      <td>NaN</td>\n",
       "      <td>NaN</td>\n",
       "      <td>male</td>\n",
       "      <td>Custom Column</td>\n",
       "    </tr>\n",
       "    <tr>\n",
       "      <th>816</th>\n",
       "      <td>3rd</td>\n",
       "      <td>1</td>\n",
       "      <td>Georges, Mrs Shahini Weappi</td>\n",
       "      <td>NaN</td>\n",
       "      <td>Cherbourg</td>\n",
       "      <td>Youngstown, OH</td>\n",
       "      <td>NaN</td>\n",
       "      <td>NaN</td>\n",
       "      <td>NaN</td>\n",
       "      <td>female</td>\n",
       "      <td>Custom Column</td>\n",
       "    </tr>\n",
       "    <tr>\n",
       "      <th>1172</th>\n",
       "      <td>3rd</td>\n",
       "      <td>0</td>\n",
       "      <td>Sage, Miss Constance</td>\n",
       "      <td>NaN</td>\n",
       "      <td>NaN</td>\n",
       "      <td>NaN</td>\n",
       "      <td>NaN</td>\n",
       "      <td>NaN</td>\n",
       "      <td>NaN</td>\n",
       "      <td>female</td>\n",
       "      <td>Custom Column</td>\n",
       "    </tr>\n",
       "    <tr>\n",
       "      <th>1220</th>\n",
       "      <td>3rd</td>\n",
       "      <td>1</td>\n",
       "      <td>Smyth, Miss Julia</td>\n",
       "      <td>NaN</td>\n",
       "      <td>NaN</td>\n",
       "      <td>NaN</td>\n",
       "      <td>NaN</td>\n",
       "      <td>NaN</td>\n",
       "      <td>NaN</td>\n",
       "      <td>female</td>\n",
       "      <td>Custom Column</td>\n",
       "    </tr>\n",
       "    <tr>\n",
       "      <th>731</th>\n",
       "      <td>3rd</td>\n",
       "      <td>0</td>\n",
       "      <td>Connors, Mr Patrick</td>\n",
       "      <td>NaN</td>\n",
       "      <td>Queenstown</td>\n",
       "      <td>NaN</td>\n",
       "      <td>NaN</td>\n",
       "      <td>NaN</td>\n",
       "      <td>(171)</td>\n",
       "      <td>male</td>\n",
       "      <td>Custom Column</td>\n",
       "    </tr>\n",
       "    <tr>\n",
       "      <th>118</th>\n",
       "      <td>1st</td>\n",
       "      <td>1</td>\n",
       "      <td>Goldenberg, Mr Samuel L.</td>\n",
       "      <td>49.0</td>\n",
       "      <td>Cherbourg</td>\n",
       "      <td>Paris, France / New York, NY</td>\n",
       "      <td>NaN</td>\n",
       "      <td>NaN</td>\n",
       "      <td>5</td>\n",
       "      <td>male</td>\n",
       "      <td>Custom Column</td>\n",
       "    </tr>\n",
       "  </tbody>\n",
       "</table>\n",
       "</div>"
      ],
      "text/plain": [
       "          pclass  survived                         name   age     embarked  \\\n",
       "row.names                                                                    \n",
       "999          3rd         1         McCarthy, Miss Katie   NaN          NaN   \n",
       "180          1st         0     Millet, Mr Francis Davis  65.0  Southampton   \n",
       "557          2nd         0     Sjostedt, Mr Ernst Adolf  59.0  Southampton   \n",
       "175          1st         0  McCaffry, Mr Thomas Francis  46.0    Cherbourg   \n",
       "1233         3rd         0             Strilic, Mr Ivan   NaN          NaN   \n",
       "816          3rd         1  Georges, Mrs Shahini Weappi   NaN    Cherbourg   \n",
       "1172         3rd         0         Sage, Miss Constance   NaN          NaN   \n",
       "1220         3rd         1            Smyth, Miss Julia   NaN          NaN   \n",
       "731          3rd         0          Connors, Mr Patrick   NaN   Queenstown   \n",
       "118          1st         1     Goldenberg, Mr Samuel L.  49.0    Cherbourg   \n",
       "\n",
       "                              home.dest room ticket   boat     sex  \\\n",
       "row.names                                                            \n",
       "999                                 NaN  NaN    NaN    NaN  female   \n",
       "180                East Bridgewater, MA  NaN    NaN  (249)    male   \n",
       "557                  Sault St Marie, ON  NaN    NaN    NaN    male   \n",
       "175                       Vancouver, BC  NaN    NaN  (292)    male   \n",
       "1233                                NaN  NaN    NaN    NaN    male   \n",
       "816                      Youngstown, OH  NaN    NaN    NaN  female   \n",
       "1172                                NaN  NaN    NaN    NaN  female   \n",
       "1220                                NaN  NaN    NaN    NaN  female   \n",
       "731                                 NaN  NaN    NaN  (171)    male   \n",
       "118        Paris, France / New York, NY  NaN    NaN      5    male   \n",
       "\n",
       "                Column-1  \n",
       "row.names                 \n",
       "999        Custom Column  \n",
       "180        Custom Column  \n",
       "557        Custom Column  \n",
       "175        Custom Column  \n",
       "1233       Custom Column  \n",
       "816        Custom Column  \n",
       "1172       Custom Column  \n",
       "1220       Custom Column  \n",
       "731        Custom Column  \n",
       "118        Custom Column  "
      ]
     },
     "execution_count": 117,
     "metadata": {},
     "output_type": "execute_result"
    }
   ],
   "source": [
    "dataset['Column-1'] = 'Custom Column'\n",
    "dataset.head(10)"
   ]
  },
  {
   "cell_type": "markdown",
   "metadata": {},
   "source": [
    "***...так и удалять колонки:***"
   ]
  },
  {
   "cell_type": "code",
   "execution_count": 118,
   "metadata": {},
   "outputs": [
    {
     "data": {
      "text/html": [
       "<div>\n",
       "<style scoped>\n",
       "    .dataframe tbody tr th:only-of-type {\n",
       "        vertical-align: middle;\n",
       "    }\n",
       "\n",
       "    .dataframe tbody tr th {\n",
       "        vertical-align: top;\n",
       "    }\n",
       "\n",
       "    .dataframe thead th {\n",
       "        text-align: right;\n",
       "    }\n",
       "</style>\n",
       "<table border=\"1\" class=\"dataframe\">\n",
       "  <thead>\n",
       "    <tr style=\"text-align: right;\">\n",
       "      <th></th>\n",
       "      <th>pclass</th>\n",
       "      <th>survived</th>\n",
       "      <th>name</th>\n",
       "      <th>age</th>\n",
       "      <th>embarked</th>\n",
       "      <th>home.dest</th>\n",
       "      <th>room</th>\n",
       "      <th>ticket</th>\n",
       "      <th>boat</th>\n",
       "      <th>sex</th>\n",
       "    </tr>\n",
       "    <tr>\n",
       "      <th>row.names</th>\n",
       "      <th></th>\n",
       "      <th></th>\n",
       "      <th></th>\n",
       "      <th></th>\n",
       "      <th></th>\n",
       "      <th></th>\n",
       "      <th></th>\n",
       "      <th></th>\n",
       "      <th></th>\n",
       "      <th></th>\n",
       "    </tr>\n",
       "  </thead>\n",
       "  <tbody>\n",
       "    <tr>\n",
       "      <th>999</th>\n",
       "      <td>3rd</td>\n",
       "      <td>1</td>\n",
       "      <td>McCarthy, Miss Katie</td>\n",
       "      <td>NaN</td>\n",
       "      <td>NaN</td>\n",
       "      <td>NaN</td>\n",
       "      <td>NaN</td>\n",
       "      <td>NaN</td>\n",
       "      <td>NaN</td>\n",
       "      <td>female</td>\n",
       "    </tr>\n",
       "    <tr>\n",
       "      <th>180</th>\n",
       "      <td>1st</td>\n",
       "      <td>0</td>\n",
       "      <td>Millet, Mr Francis Davis</td>\n",
       "      <td>65.0</td>\n",
       "      <td>Southampton</td>\n",
       "      <td>East Bridgewater, MA</td>\n",
       "      <td>NaN</td>\n",
       "      <td>NaN</td>\n",
       "      <td>(249)</td>\n",
       "      <td>male</td>\n",
       "    </tr>\n",
       "    <tr>\n",
       "      <th>557</th>\n",
       "      <td>2nd</td>\n",
       "      <td>0</td>\n",
       "      <td>Sjostedt, Mr Ernst Adolf</td>\n",
       "      <td>59.0</td>\n",
       "      <td>Southampton</td>\n",
       "      <td>Sault St Marie, ON</td>\n",
       "      <td>NaN</td>\n",
       "      <td>NaN</td>\n",
       "      <td>NaN</td>\n",
       "      <td>male</td>\n",
       "    </tr>\n",
       "    <tr>\n",
       "      <th>175</th>\n",
       "      <td>1st</td>\n",
       "      <td>0</td>\n",
       "      <td>McCaffry, Mr Thomas Francis</td>\n",
       "      <td>46.0</td>\n",
       "      <td>Cherbourg</td>\n",
       "      <td>Vancouver, BC</td>\n",
       "      <td>NaN</td>\n",
       "      <td>NaN</td>\n",
       "      <td>(292)</td>\n",
       "      <td>male</td>\n",
       "    </tr>\n",
       "    <tr>\n",
       "      <th>1233</th>\n",
       "      <td>3rd</td>\n",
       "      <td>0</td>\n",
       "      <td>Strilic, Mr Ivan</td>\n",
       "      <td>NaN</td>\n",
       "      <td>NaN</td>\n",
       "      <td>NaN</td>\n",
       "      <td>NaN</td>\n",
       "      <td>NaN</td>\n",
       "      <td>NaN</td>\n",
       "      <td>male</td>\n",
       "    </tr>\n",
       "    <tr>\n",
       "      <th>816</th>\n",
       "      <td>3rd</td>\n",
       "      <td>1</td>\n",
       "      <td>Georges, Mrs Shahini Weappi</td>\n",
       "      <td>NaN</td>\n",
       "      <td>Cherbourg</td>\n",
       "      <td>Youngstown, OH</td>\n",
       "      <td>NaN</td>\n",
       "      <td>NaN</td>\n",
       "      <td>NaN</td>\n",
       "      <td>female</td>\n",
       "    </tr>\n",
       "    <tr>\n",
       "      <th>1172</th>\n",
       "      <td>3rd</td>\n",
       "      <td>0</td>\n",
       "      <td>Sage, Miss Constance</td>\n",
       "      <td>NaN</td>\n",
       "      <td>NaN</td>\n",
       "      <td>NaN</td>\n",
       "      <td>NaN</td>\n",
       "      <td>NaN</td>\n",
       "      <td>NaN</td>\n",
       "      <td>female</td>\n",
       "    </tr>\n",
       "    <tr>\n",
       "      <th>1220</th>\n",
       "      <td>3rd</td>\n",
       "      <td>1</td>\n",
       "      <td>Smyth, Miss Julia</td>\n",
       "      <td>NaN</td>\n",
       "      <td>NaN</td>\n",
       "      <td>NaN</td>\n",
       "      <td>NaN</td>\n",
       "      <td>NaN</td>\n",
       "      <td>NaN</td>\n",
       "      <td>female</td>\n",
       "    </tr>\n",
       "    <tr>\n",
       "      <th>731</th>\n",
       "      <td>3rd</td>\n",
       "      <td>0</td>\n",
       "      <td>Connors, Mr Patrick</td>\n",
       "      <td>NaN</td>\n",
       "      <td>Queenstown</td>\n",
       "      <td>NaN</td>\n",
       "      <td>NaN</td>\n",
       "      <td>NaN</td>\n",
       "      <td>(171)</td>\n",
       "      <td>male</td>\n",
       "    </tr>\n",
       "    <tr>\n",
       "      <th>118</th>\n",
       "      <td>1st</td>\n",
       "      <td>1</td>\n",
       "      <td>Goldenberg, Mr Samuel L.</td>\n",
       "      <td>49.0</td>\n",
       "      <td>Cherbourg</td>\n",
       "      <td>Paris, France / New York, NY</td>\n",
       "      <td>NaN</td>\n",
       "      <td>NaN</td>\n",
       "      <td>5</td>\n",
       "      <td>male</td>\n",
       "    </tr>\n",
       "  </tbody>\n",
       "</table>\n",
       "</div>"
      ],
      "text/plain": [
       "          pclass  survived                         name   age     embarked  \\\n",
       "row.names                                                                    \n",
       "999          3rd         1         McCarthy, Miss Katie   NaN          NaN   \n",
       "180          1st         0     Millet, Mr Francis Davis  65.0  Southampton   \n",
       "557          2nd         0     Sjostedt, Mr Ernst Adolf  59.0  Southampton   \n",
       "175          1st         0  McCaffry, Mr Thomas Francis  46.0    Cherbourg   \n",
       "1233         3rd         0             Strilic, Mr Ivan   NaN          NaN   \n",
       "816          3rd         1  Georges, Mrs Shahini Weappi   NaN    Cherbourg   \n",
       "1172         3rd         0         Sage, Miss Constance   NaN          NaN   \n",
       "1220         3rd         1            Smyth, Miss Julia   NaN          NaN   \n",
       "731          3rd         0          Connors, Mr Patrick   NaN   Queenstown   \n",
       "118          1st         1     Goldenberg, Mr Samuel L.  49.0    Cherbourg   \n",
       "\n",
       "                              home.dest room ticket   boat     sex  \n",
       "row.names                                                           \n",
       "999                                 NaN  NaN    NaN    NaN  female  \n",
       "180                East Bridgewater, MA  NaN    NaN  (249)    male  \n",
       "557                  Sault St Marie, ON  NaN    NaN    NaN    male  \n",
       "175                       Vancouver, BC  NaN    NaN  (292)    male  \n",
       "1233                                NaN  NaN    NaN    NaN    male  \n",
       "816                      Youngstown, OH  NaN    NaN    NaN  female  \n",
       "1172                                NaN  NaN    NaN    NaN  female  \n",
       "1220                                NaN  NaN    NaN    NaN  female  \n",
       "731                                 NaN  NaN    NaN  (171)    male  \n",
       "118        Paris, France / New York, NY  NaN    NaN      5    male  "
      ]
     },
     "execution_count": 118,
     "metadata": {},
     "output_type": "execute_result"
    }
   ],
   "source": [
    "dataset = dataset.drop('Column-1', 1)\n",
    "dataset.head(10)"
   ]
  },
  {
   "cell_type": "markdown",
   "metadata": {},
   "source": [
    "# Производим обработку датасета:\n",
    "\n",
    "*По своей сути, данные делятся на бинарные, качественные и количественные: например, в нашем случае, качественными данными являются: номер каюты, пол пассажира и его имя, а количественным будет его возраст. Для обучения модели нам не понадобится имя пассажира, так как оно никак не влияет на шансы на выживание. Мы будем использовать колонки \"класс\", \"пол\" и \"возраст\", однако:*\n",
    "\n",
    "1. У нас не хватает данных по возрасту, поэтому для пассажиров, у которых не указан возраст, укажем его как медианный для этой выборки\n",
    "2. Столбец \"пол\" не является бинарным\n",
    "3. Столбец \"класс\" является строчным\n",
    "\n",
    "<a id='median'></a>\n",
    "### .median( ) ###\n",
    "*Возвращает медианное значение.* "
   ]
  },
  {
   "cell_type": "code",
   "execution_count": 119,
   "metadata": {},
   "outputs": [
    {
     "data": {
      "text/plain": [
       "row.names\n",
       "999     29.0\n",
       "180     65.0\n",
       "557     59.0\n",
       "175     46.0\n",
       "1233    29.0\n",
       "Name: age, dtype: float64"
      ]
     },
     "execution_count": 119,
     "metadata": {},
     "output_type": "execute_result"
    }
   ],
   "source": [
    "dataset['age'].fillna(dataset['age'].median(), inplace = True)\n",
    "dataset['age'].head()"
   ]
  },
  {
   "cell_type": "code",
   "execution_count": 120,
   "metadata": {},
   "outputs": [
    {
     "data": {
      "text/html": [
       "<div>\n",
       "<style scoped>\n",
       "    .dataframe tbody tr th:only-of-type {\n",
       "        vertical-align: middle;\n",
       "    }\n",
       "\n",
       "    .dataframe tbody tr th {\n",
       "        vertical-align: top;\n",
       "    }\n",
       "\n",
       "    .dataframe thead th {\n",
       "        text-align: right;\n",
       "    }\n",
       "</style>\n",
       "<table border=\"1\" class=\"dataframe\">\n",
       "  <thead>\n",
       "    <tr style=\"text-align: right;\">\n",
       "      <th></th>\n",
       "      <th>pclass</th>\n",
       "      <th>age</th>\n",
       "      <th>sex</th>\n",
       "    </tr>\n",
       "    <tr>\n",
       "      <th>row.names</th>\n",
       "      <th></th>\n",
       "      <th></th>\n",
       "      <th></th>\n",
       "    </tr>\n",
       "  </thead>\n",
       "  <tbody>\n",
       "    <tr>\n",
       "      <th>999</th>\n",
       "      <td>3</td>\n",
       "      <td>29.0</td>\n",
       "      <td>0</td>\n",
       "    </tr>\n",
       "    <tr>\n",
       "      <th>180</th>\n",
       "      <td>1</td>\n",
       "      <td>65.0</td>\n",
       "      <td>1</td>\n",
       "    </tr>\n",
       "    <tr>\n",
       "      <th>557</th>\n",
       "      <td>2</td>\n",
       "      <td>59.0</td>\n",
       "      <td>1</td>\n",
       "    </tr>\n",
       "    <tr>\n",
       "      <th>175</th>\n",
       "      <td>1</td>\n",
       "      <td>46.0</td>\n",
       "      <td>1</td>\n",
       "    </tr>\n",
       "    <tr>\n",
       "      <th>1233</th>\n",
       "      <td>3</td>\n",
       "      <td>29.0</td>\n",
       "      <td>1</td>\n",
       "    </tr>\n",
       "  </tbody>\n",
       "</table>\n",
       "</div>"
      ],
      "text/plain": [
       "           pclass   age  sex\n",
       "row.names                   \n",
       "999             3  29.0    0\n",
       "180             1  65.0    1\n",
       "557             2  59.0    1\n",
       "175             1  46.0    1\n",
       "1233            3  29.0    1"
      ]
     },
     "execution_count": 120,
     "metadata": {},
     "output_type": "execute_result"
    }
   ],
   "source": [
    "pd.options.mode.chained_assignment = None\n",
    "\n",
    "data_inputs = dataset[[\"pclass\", \"age\", \"sex\"]]\n",
    "data_inputs[\"pclass\"].replace(\"3rd\", 3, inplace = True)\n",
    "data_inputs[\"pclass\"].replace(\"2nd\", 2, inplace = True)\n",
    "data_inputs[\"pclass\"].replace(\"1st\", 1, inplace = True)\n",
    "\n",
    "data_inputs[\"sex\"] = np.where(data_inputs[\"sex\"] == \"female\", 0, 1)\n",
    "data_inputs.head()"
   ]
  },
  {
   "cell_type": "markdown",
   "metadata": {},
   "source": [
    "*Теперь мы можем приступать к работе с моделью:*"
   ]
  },
  {
   "cell_type": "markdown",
   "metadata": {},
   "source": [
    "# Использование с sklearn:\n",
    "\n",
    "***Обозначим как ожидаемый исход параметр, выжил ли пассажир:***"
   ]
  },
  {
   "cell_type": "code",
   "execution_count": 121,
   "metadata": {},
   "outputs": [],
   "source": [
    "expected_output = dataset[[\"survived\"]]"
   ]
  },
  {
   "cell_type": "markdown",
   "metadata": {},
   "source": [
    "***Опишем и обучим модель:***"
   ]
  },
  {
   "cell_type": "code",
   "execution_count": 122,
   "metadata": {},
   "outputs": [
    {
     "name": "stdout",
     "output_type": "stream",
     "text": [
      "Accuracy = 78.94736842105263%\n"
     ]
    }
   ],
   "source": [
    "pd.options.mode.chained_assignment = None\n",
    "\n",
    "inputs_train, inputs_test, expected_output_train, expected_output_test = model_selection.train_test_split(data_inputs \\\n",
    "                                                                    , expected_output, test_size = 0.33, random_state = 42)\n",
    "rf = ensemble.RandomForestClassifier (n_estimators=100)\n",
    "rf.fit(inputs_train, expected_output_train.values.ravel())\n",
    "accuracy = rf.score(inputs_test, expected_output_test)\n",
    "print(\"Accuracy = {}%\".format(accuracy * 100))"
   ]
  },
  {
   "cell_type": "markdown",
   "metadata": {},
   "source": [
    "Точность модели - около 78 процентов\n",
    "\n",
    "***Запишем модель в файл:***"
   ]
  },
  {
   "cell_type": "code",
   "execution_count": 123,
   "metadata": {},
   "outputs": [
    {
     "data": {
      "text/plain": [
       "['titanic_model1']"
      ]
     },
     "execution_count": 123,
     "metadata": {},
     "output_type": "execute_result"
    }
   ],
   "source": [
    "joblib.dump(rf, \"titanic_model1\", compress=9)"
   ]
  },
  {
   "cell_type": "markdown",
   "metadata": {},
   "source": [
    "***Опишем четырех случайных пассажиров:***\n",
    "\n",
    "1. 56-летняя женщина из 1-ого класса\n",
    "2. 31-летняя женщина из 2-ого класса\n",
    "3. 29-летний мужчина из 2-ого класса\n",
    "4. 18-летний мужчина из 3-ого класса\n",
    "\n",
    "***И попробуем предсказать их шансы на выживание:***"
   ]
  },
  {
   "cell_type": "code",
   "execution_count": 124,
   "metadata": {},
   "outputs": [
    {
     "name": "stdout",
     "output_type": "stream",
     "text": [
      "[1 1 0 0]\n"
     ]
    }
   ],
   "source": [
    "data = pd.DataFrame({'pclass':[1, 2, 2, 3],\n",
    "        'age':[56, 31, 29, 18], \n",
    "        'sex':[0,0,1,1]})\n",
    "rf = joblib.load(\"titanic_model1\")\n",
    "pred = rf.predict(data)\n",
    "print(pred)"
   ]
  },
  {
   "cell_type": "markdown",
   "metadata": {},
   "source": [
    "*Исходя из модели, выживут только первые два пассажира.*"
   ]
  },
  {
   "cell_type": "markdown",
   "metadata": {},
   "source": [
    "<a id='set2'></a>\n",
    "<center><h1>Теперь возьмем другой массив данных:</h1></center>"
   ]
  },
  {
   "cell_type": "markdown",
   "metadata": {},
   "source": [
    "*Этот датасет содержит данные о небольшой экосистеме в южной Аризоне за последние 35 лет. Он является частью большего проекта по изучению влияния различных видов грызунов и насекомых на жизнь растений*\n",
    "- plots.csv : список участков исследования с их ID и кратким описанием\n",
    "- species.csv : список с двухсимвольным кодом вида и информации о нем\n",
    "- surveys.csv : полный список наблюдений над видами на участках"
   ]
  },
  {
   "cell_type": "code",
   "execution_count": 125,
   "metadata": {},
   "outputs": [
    {
     "data": {
      "text/html": [
       "<div>\n",
       "<style scoped>\n",
       "    .dataframe tbody tr th:only-of-type {\n",
       "        vertical-align: middle;\n",
       "    }\n",
       "\n",
       "    .dataframe tbody tr th {\n",
       "        vertical-align: top;\n",
       "    }\n",
       "\n",
       "    .dataframe thead th {\n",
       "        text-align: right;\n",
       "    }\n",
       "</style>\n",
       "<table border=\"1\" class=\"dataframe\">\n",
       "  <thead>\n",
       "    <tr style=\"text-align: right;\">\n",
       "      <th></th>\n",
       "      <th>genus</th>\n",
       "      <th>species</th>\n",
       "      <th>taxa</th>\n",
       "    </tr>\n",
       "    <tr>\n",
       "      <th>species_id</th>\n",
       "      <th></th>\n",
       "      <th></th>\n",
       "      <th></th>\n",
       "    </tr>\n",
       "  </thead>\n",
       "  <tbody>\n",
       "    <tr>\n",
       "      <th>AB</th>\n",
       "      <td>Amphispiza</td>\n",
       "      <td>bilineata</td>\n",
       "      <td>Bird</td>\n",
       "    </tr>\n",
       "    <tr>\n",
       "      <th>AH</th>\n",
       "      <td>Ammospermophilus</td>\n",
       "      <td>harrisi</td>\n",
       "      <td>Rodent-not censused</td>\n",
       "    </tr>\n",
       "    <tr>\n",
       "      <th>AS</th>\n",
       "      <td>Ammodramus</td>\n",
       "      <td>savannarum</td>\n",
       "      <td>Bird</td>\n",
       "    </tr>\n",
       "    <tr>\n",
       "      <th>BA</th>\n",
       "      <td>Baiomys</td>\n",
       "      <td>taylori</td>\n",
       "      <td>Rodent</td>\n",
       "    </tr>\n",
       "    <tr>\n",
       "      <th>CB</th>\n",
       "      <td>Campylorhynchus</td>\n",
       "      <td>brunneicapillus</td>\n",
       "      <td>Bird</td>\n",
       "    </tr>\n",
       "  </tbody>\n",
       "</table>\n",
       "</div>"
      ],
      "text/plain": [
       "                       genus          species                 taxa\n",
       "species_id                                                        \n",
       "AB                Amphispiza        bilineata                 Bird\n",
       "AH          Ammospermophilus          harrisi  Rodent-not censused\n",
       "AS                Ammodramus       savannarum                 Bird\n",
       "BA                   Baiomys          taylori               Rodent\n",
       "CB           Campylorhynchus  brunneicapillus                 Bird"
      ]
     },
     "execution_count": 125,
     "metadata": {},
     "output_type": "execute_result"
    }
   ],
   "source": [
    "species = pd.read_csv('./data/2_ecosystem/species.csv',index_col=[0])\n",
    "species.head()"
   ]
  },
  {
   "cell_type": "code",
   "execution_count": 126,
   "metadata": {},
   "outputs": [
    {
     "data": {
      "text/html": [
       "<div>\n",
       "<style scoped>\n",
       "    .dataframe tbody tr th:only-of-type {\n",
       "        vertical-align: middle;\n",
       "    }\n",
       "\n",
       "    .dataframe tbody tr th {\n",
       "        vertical-align: top;\n",
       "    }\n",
       "\n",
       "    .dataframe thead th {\n",
       "        text-align: right;\n",
       "    }\n",
       "</style>\n",
       "<table border=\"1\" class=\"dataframe\">\n",
       "  <thead>\n",
       "    <tr style=\"text-align: right;\">\n",
       "      <th></th>\n",
       "      <th>plot_type</th>\n",
       "    </tr>\n",
       "    <tr>\n",
       "      <th>plot_id</th>\n",
       "      <th></th>\n",
       "    </tr>\n",
       "  </thead>\n",
       "  <tbody>\n",
       "    <tr>\n",
       "      <th>1</th>\n",
       "      <td>Spectab exclosure</td>\n",
       "    </tr>\n",
       "    <tr>\n",
       "      <th>2</th>\n",
       "      <td>Control</td>\n",
       "    </tr>\n",
       "    <tr>\n",
       "      <th>3</th>\n",
       "      <td>Long-term Krat Exclosure</td>\n",
       "    </tr>\n",
       "    <tr>\n",
       "      <th>4</th>\n",
       "      <td>Control</td>\n",
       "    </tr>\n",
       "    <tr>\n",
       "      <th>5</th>\n",
       "      <td>Rodent Exclosure</td>\n",
       "    </tr>\n",
       "  </tbody>\n",
       "</table>\n",
       "</div>"
      ],
      "text/plain": [
       "                        plot_type\n",
       "plot_id                          \n",
       "1               Spectab exclosure\n",
       "2                         Control\n",
       "3        Long-term Krat Exclosure\n",
       "4                         Control\n",
       "5                Rodent Exclosure"
      ]
     },
     "execution_count": 126,
     "metadata": {},
     "output_type": "execute_result"
    }
   ],
   "source": [
    "plots = pd.read_csv('./data/2_ecosystem/plots.csv',index_col=[0])\n",
    "plots.head()"
   ]
  },
  {
   "cell_type": "markdown",
   "metadata": {},
   "source": [
    "<a id='sample'></a>\n",
    "### .sample( ) ###\n",
    "*Возвращает набор случайных данных из массива:*"
   ]
  },
  {
   "cell_type": "code",
   "execution_count": 127,
   "metadata": {},
   "outputs": [
    {
     "data": {
      "text/html": [
       "<div>\n",
       "<style scoped>\n",
       "    .dataframe tbody tr th:only-of-type {\n",
       "        vertical-align: middle;\n",
       "    }\n",
       "\n",
       "    .dataframe tbody tr th {\n",
       "        vertical-align: top;\n",
       "    }\n",
       "\n",
       "    .dataframe thead th {\n",
       "        text-align: right;\n",
       "    }\n",
       "</style>\n",
       "<table border=\"1\" class=\"dataframe\">\n",
       "  <thead>\n",
       "    <tr style=\"text-align: right;\">\n",
       "      <th></th>\n",
       "      <th>month</th>\n",
       "      <th>day</th>\n",
       "      <th>year</th>\n",
       "      <th>plot</th>\n",
       "      <th>species</th>\n",
       "      <th>sex</th>\n",
       "      <th>wgt</th>\n",
       "    </tr>\n",
       "    <tr>\n",
       "      <th>record_id</th>\n",
       "      <th></th>\n",
       "      <th></th>\n",
       "      <th></th>\n",
       "      <th></th>\n",
       "      <th></th>\n",
       "      <th></th>\n",
       "      <th></th>\n",
       "    </tr>\n",
       "  </thead>\n",
       "  <tbody>\n",
       "    <tr>\n",
       "      <th>33904</th>\n",
       "      <td>4</td>\n",
       "      <td>17</td>\n",
       "      <td>2002</td>\n",
       "      <td>15</td>\n",
       "      <td>PP</td>\n",
       "      <td>F</td>\n",
       "      <td>17.0</td>\n",
       "    </tr>\n",
       "    <tr>\n",
       "      <th>9631</th>\n",
       "      <td>10</td>\n",
       "      <td>20</td>\n",
       "      <td>1984</td>\n",
       "      <td>21</td>\n",
       "      <td>PH</td>\n",
       "      <td>F</td>\n",
       "      <td>25.0</td>\n",
       "    </tr>\n",
       "    <tr>\n",
       "      <th>7827</th>\n",
       "      <td>5</td>\n",
       "      <td>14</td>\n",
       "      <td>1983</td>\n",
       "      <td>13</td>\n",
       "      <td>DO</td>\n",
       "      <td>F</td>\n",
       "      <td>73.0</td>\n",
       "    </tr>\n",
       "    <tr>\n",
       "      <th>33002</th>\n",
       "      <td>10</td>\n",
       "      <td>14</td>\n",
       "      <td>2001</td>\n",
       "      <td>14</td>\n",
       "      <td>DM</td>\n",
       "      <td>F</td>\n",
       "      <td>30.0</td>\n",
       "    </tr>\n",
       "    <tr>\n",
       "      <th>18953</th>\n",
       "      <td>8</td>\n",
       "      <td>8</td>\n",
       "      <td>1991</td>\n",
       "      <td>9</td>\n",
       "      <td>DM</td>\n",
       "      <td>F</td>\n",
       "      <td>36.0</td>\n",
       "    </tr>\n",
       "    <tr>\n",
       "      <th>33095</th>\n",
       "      <td>11</td>\n",
       "      <td>17</td>\n",
       "      <td>2001</td>\n",
       "      <td>21</td>\n",
       "      <td>PB</td>\n",
       "      <td>M</td>\n",
       "      <td>34.0</td>\n",
       "    </tr>\n",
       "    <tr>\n",
       "      <th>22589</th>\n",
       "      <td>8</td>\n",
       "      <td>27</td>\n",
       "      <td>1995</td>\n",
       "      <td>5</td>\n",
       "      <td>AH</td>\n",
       "      <td>NaN</td>\n",
       "      <td>NaN</td>\n",
       "    </tr>\n",
       "    <tr>\n",
       "      <th>32425</th>\n",
       "      <td>8</td>\n",
       "      <td>25</td>\n",
       "      <td>2001</td>\n",
       "      <td>17</td>\n",
       "      <td>PF</td>\n",
       "      <td>F</td>\n",
       "      <td>16.0</td>\n",
       "    </tr>\n",
       "    <tr>\n",
       "      <th>33984</th>\n",
       "      <td>5</td>\n",
       "      <td>15</td>\n",
       "      <td>2002</td>\n",
       "      <td>19</td>\n",
       "      <td>PB</td>\n",
       "      <td>M</td>\n",
       "      <td>45.0</td>\n",
       "    </tr>\n",
       "    <tr>\n",
       "      <th>15614</th>\n",
       "      <td>2</td>\n",
       "      <td>5</td>\n",
       "      <td>1989</td>\n",
       "      <td>5</td>\n",
       "      <td>OL</td>\n",
       "      <td>M</td>\n",
       "      <td>25.0</td>\n",
       "    </tr>\n",
       "  </tbody>\n",
       "</table>\n",
       "</div>"
      ],
      "text/plain": [
       "           month  day  year  plot species  sex   wgt\n",
       "record_id                                           \n",
       "33904          4   17  2002    15      PP    F  17.0\n",
       "9631          10   20  1984    21      PH    F  25.0\n",
       "7827           5   14  1983    13      DO    F  73.0\n",
       "33002         10   14  2001    14      DM    F  30.0\n",
       "18953          8    8  1991     9      DM    F  36.0\n",
       "33095         11   17  2001    21      PB    M  34.0\n",
       "22589          8   27  1995     5      AH  NaN   NaN\n",
       "32425          8   25  2001    17      PF    F  16.0\n",
       "33984          5   15  2002    19      PB    M  45.0\n",
       "15614          2    5  1989     5      OL    M  25.0"
      ]
     },
     "execution_count": 127,
     "metadata": {},
     "output_type": "execute_result"
    }
   ],
   "source": [
    "surveys = pd.read_csv('./data/2_ecosystem/surveys.csv',index_col=[0])\n",
    "surveys.sample(10)"
   ]
  },
  {
   "cell_type": "markdown",
   "metadata": {},
   "source": [
    "***Как мы видим, данные очень неоднородные, например не везде указан вид наблюдаемого животного, его пол или вес. Также на разные колонки разбиты даты:***\n",
    "\n",
    "<a id='to_datetime'></a>\n",
    "### .to_datetime( ) ###\n",
    "*Возвращает объект типа datetime64:*"
   ]
  },
  {
   "cell_type": "code",
   "execution_count": 128,
   "metadata": {},
   "outputs": [
    {
     "data": {
      "text/html": [
       "<div>\n",
       "<style scoped>\n",
       "    .dataframe tbody tr th:only-of-type {\n",
       "        vertical-align: middle;\n",
       "    }\n",
       "\n",
       "    .dataframe tbody tr th {\n",
       "        vertical-align: top;\n",
       "    }\n",
       "\n",
       "    .dataframe thead th {\n",
       "        text-align: right;\n",
       "    }\n",
       "</style>\n",
       "<table border=\"1\" class=\"dataframe\">\n",
       "  <thead>\n",
       "    <tr style=\"text-align: right;\">\n",
       "      <th></th>\n",
       "      <th>plot</th>\n",
       "      <th>species</th>\n",
       "      <th>sex</th>\n",
       "      <th>wgt</th>\n",
       "      <th>date</th>\n",
       "    </tr>\n",
       "    <tr>\n",
       "      <th>record_id</th>\n",
       "      <th></th>\n",
       "      <th></th>\n",
       "      <th></th>\n",
       "      <th></th>\n",
       "      <th></th>\n",
       "    </tr>\n",
       "  </thead>\n",
       "  <tbody>\n",
       "    <tr>\n",
       "      <th>29222</th>\n",
       "      <td>22</td>\n",
       "      <td>PB</td>\n",
       "      <td>F</td>\n",
       "      <td>29.0</td>\n",
       "      <td>1999-02-20</td>\n",
       "    </tr>\n",
       "    <tr>\n",
       "      <th>29900</th>\n",
       "      <td>3</td>\n",
       "      <td>PB</td>\n",
       "      <td>F</td>\n",
       "      <td>22.0</td>\n",
       "      <td>1999-10-10</td>\n",
       "    </tr>\n",
       "    <tr>\n",
       "      <th>20027</th>\n",
       "      <td>18</td>\n",
       "      <td>PP</td>\n",
       "      <td>F</td>\n",
       "      <td>20.0</td>\n",
       "      <td>1992-05-30</td>\n",
       "    </tr>\n",
       "    <tr>\n",
       "      <th>17496</th>\n",
       "      <td>12</td>\n",
       "      <td>DM</td>\n",
       "      <td>M</td>\n",
       "      <td>48.0</td>\n",
       "      <td>1990-05-23</td>\n",
       "    </tr>\n",
       "    <tr>\n",
       "      <th>28713</th>\n",
       "      <td>21</td>\n",
       "      <td>AH</td>\n",
       "      <td>NaN</td>\n",
       "      <td>NaN</td>\n",
       "      <td>1998-10-24</td>\n",
       "    </tr>\n",
       "  </tbody>\n",
       "</table>\n",
       "</div>"
      ],
      "text/plain": [
       "           plot species  sex   wgt       date\n",
       "record_id                                    \n",
       "29222        22      PB    F  29.0 1999-02-20\n",
       "29900         3      PB    F  22.0 1999-10-10\n",
       "20027        18      PP    F  20.0 1992-05-30\n",
       "17496        12      DM    M  48.0 1990-05-23\n",
       "28713        21      AH  NaN   NaN 1998-10-24"
      ]
     },
     "execution_count": 128,
     "metadata": {},
     "output_type": "execute_result"
    }
   ],
   "source": [
    "surveys['date'] = pd.to_datetime(pd.DataFrame({'year': surveys['year'],\n",
    "                            'month': surveys['month'],\n",
    "                            'day': surveys['day']}), errors='coerce')\n",
    "surveys = surveys.drop(['year','month','day'], 1)\n",
    "surveys.sample(5)"
   ]
  },
  {
   "cell_type": "markdown",
   "metadata": {},
   "source": [
    "<a id='dropna'></a>\n",
    "### .dropna( ) ###\n",
    "*Удаляет строки с хотя бы одним пропуском:*"
   ]
  },
  {
   "cell_type": "code",
   "execution_count": 129,
   "metadata": {},
   "outputs": [
    {
     "data": {
      "text/html": [
       "<div>\n",
       "<style scoped>\n",
       "    .dataframe tbody tr th:only-of-type {\n",
       "        vertical-align: middle;\n",
       "    }\n",
       "\n",
       "    .dataframe tbody tr th {\n",
       "        vertical-align: top;\n",
       "    }\n",
       "\n",
       "    .dataframe thead th {\n",
       "        text-align: right;\n",
       "    }\n",
       "</style>\n",
       "<table border=\"1\" class=\"dataframe\">\n",
       "  <thead>\n",
       "    <tr style=\"text-align: right;\">\n",
       "      <th></th>\n",
       "      <th>plot</th>\n",
       "      <th>species</th>\n",
       "      <th>sex</th>\n",
       "      <th>wgt</th>\n",
       "      <th>date</th>\n",
       "    </tr>\n",
       "    <tr>\n",
       "      <th>record_id</th>\n",
       "      <th></th>\n",
       "      <th></th>\n",
       "      <th></th>\n",
       "      <th></th>\n",
       "      <th></th>\n",
       "    </tr>\n",
       "  </thead>\n",
       "  <tbody>\n",
       "    <tr>\n",
       "      <th>8623</th>\n",
       "      <td>12</td>\n",
       "      <td>DS</td>\n",
       "      <td>M</td>\n",
       "      <td>125.0</td>\n",
       "      <td>1983-11-12</td>\n",
       "    </tr>\n",
       "    <tr>\n",
       "      <th>20059</th>\n",
       "      <td>4</td>\n",
       "      <td>DM</td>\n",
       "      <td>F</td>\n",
       "      <td>45.0</td>\n",
       "      <td>1992-05-31</td>\n",
       "    </tr>\n",
       "    <tr>\n",
       "      <th>15899</th>\n",
       "      <td>12</td>\n",
       "      <td>RF</td>\n",
       "      <td>F</td>\n",
       "      <td>12.0</td>\n",
       "      <td>1989-04-01</td>\n",
       "    </tr>\n",
       "    <tr>\n",
       "      <th>11253</th>\n",
       "      <td>22</td>\n",
       "      <td>DM</td>\n",
       "      <td>F</td>\n",
       "      <td>43.0</td>\n",
       "      <td>1986-03-08</td>\n",
       "    </tr>\n",
       "    <tr>\n",
       "      <th>16323</th>\n",
       "      <td>10</td>\n",
       "      <td>RM</td>\n",
       "      <td>F</td>\n",
       "      <td>8.0</td>\n",
       "      <td>1989-07-04</td>\n",
       "    </tr>\n",
       "    <tr>\n",
       "      <th>32360</th>\n",
       "      <td>16</td>\n",
       "      <td>PE</td>\n",
       "      <td>M</td>\n",
       "      <td>18.0</td>\n",
       "      <td>2001-07-22</td>\n",
       "    </tr>\n",
       "    <tr>\n",
       "      <th>8967</th>\n",
       "      <td>15</td>\n",
       "      <td>PP</td>\n",
       "      <td>F</td>\n",
       "      <td>14.0</td>\n",
       "      <td>1984-03-13</td>\n",
       "    </tr>\n",
       "    <tr>\n",
       "      <th>32762</th>\n",
       "      <td>8</td>\n",
       "      <td>DO</td>\n",
       "      <td>M</td>\n",
       "      <td>53.0</td>\n",
       "      <td>2001-09-23</td>\n",
       "    </tr>\n",
       "    <tr>\n",
       "      <th>24030</th>\n",
       "      <td>1</td>\n",
       "      <td>PF</td>\n",
       "      <td>M</td>\n",
       "      <td>7.0</td>\n",
       "      <td>1996-06-13</td>\n",
       "    </tr>\n",
       "    <tr>\n",
       "      <th>13530</th>\n",
       "      <td>20</td>\n",
       "      <td>RM</td>\n",
       "      <td>M</td>\n",
       "      <td>13.0</td>\n",
       "      <td>1987-10-24</td>\n",
       "    </tr>\n",
       "  </tbody>\n",
       "</table>\n",
       "</div>"
      ],
      "text/plain": [
       "           plot species sex    wgt       date\n",
       "record_id                                    \n",
       "8623         12      DS   M  125.0 1983-11-12\n",
       "20059         4      DM   F   45.0 1992-05-31\n",
       "15899        12      RF   F   12.0 1989-04-01\n",
       "11253        22      DM   F   43.0 1986-03-08\n",
       "16323        10      RM   F    8.0 1989-07-04\n",
       "32360        16      PE   M   18.0 2001-07-22\n",
       "8967         15      PP   F   14.0 1984-03-13\n",
       "32762         8      DO   M   53.0 2001-09-23\n",
       "24030         1      PF   M    7.0 1996-06-13\n",
       "13530        20      RM   M   13.0 1987-10-24"
      ]
     },
     "execution_count": 129,
     "metadata": {},
     "output_type": "execute_result"
    }
   ],
   "source": [
    "surveys_clean = surveys.dropna()\n",
    "surveys_clean.sample(10)"
   ]
  },
  {
   "cell_type": "markdown",
   "metadata": {},
   "source": [
    "<a id='fillna'></a>\n",
    "### .fillna( ) ###\n",
    "*Заменяет пропуски на какие-то данные:*"
   ]
  },
  {
   "cell_type": "code",
   "execution_count": 130,
   "metadata": {},
   "outputs": [
    {
     "data": {
      "text/html": [
       "<div>\n",
       "<style scoped>\n",
       "    .dataframe tbody tr th:only-of-type {\n",
       "        vertical-align: middle;\n",
       "    }\n",
       "\n",
       "    .dataframe tbody tr th {\n",
       "        vertical-align: top;\n",
       "    }\n",
       "\n",
       "    .dataframe thead th {\n",
       "        text-align: right;\n",
       "    }\n",
       "</style>\n",
       "<table border=\"1\" class=\"dataframe\">\n",
       "  <thead>\n",
       "    <tr style=\"text-align: right;\">\n",
       "      <th></th>\n",
       "      <th>plot</th>\n",
       "      <th>species</th>\n",
       "      <th>sex</th>\n",
       "      <th>wgt</th>\n",
       "      <th>date</th>\n",
       "    </tr>\n",
       "    <tr>\n",
       "      <th>record_id</th>\n",
       "      <th></th>\n",
       "      <th></th>\n",
       "      <th></th>\n",
       "      <th></th>\n",
       "      <th></th>\n",
       "    </tr>\n",
       "  </thead>\n",
       "  <tbody>\n",
       "    <tr>\n",
       "      <th>30510</th>\n",
       "      <td>4</td>\n",
       "      <td>DM</td>\n",
       "      <td>F</td>\n",
       "      <td>40.0</td>\n",
       "      <td>2000-03-05 00:00:00</td>\n",
       "    </tr>\n",
       "    <tr>\n",
       "      <th>13159</th>\n",
       "      <td>15</td>\n",
       "      <td>PM</td>\n",
       "      <td>M</td>\n",
       "      <td>22.0</td>\n",
       "      <td>1987-07-26 00:00:00</td>\n",
       "    </tr>\n",
       "    <tr>\n",
       "      <th>15038</th>\n",
       "      <td>20</td>\n",
       "      <td>NL</td>\n",
       "      <td>F</td>\n",
       "      <td>110.0</td>\n",
       "      <td>1988-11-05 00:00:00</td>\n",
       "    </tr>\n",
       "    <tr>\n",
       "      <th>10525</th>\n",
       "      <td>10</td>\n",
       "      <td>RM</td>\n",
       "      <td>M</td>\n",
       "      <td>10.0</td>\n",
       "      <td>1985-06-16 00:00:00</td>\n",
       "    </tr>\n",
       "    <tr>\n",
       "      <th>11351</th>\n",
       "      <td>23</td>\n",
       "      <td>RM</td>\n",
       "      <td>M</td>\n",
       "      <td>10.0</td>\n",
       "      <td>1986-04-12 00:00:00</td>\n",
       "    </tr>\n",
       "    <tr>\n",
       "      <th>28432</th>\n",
       "      <td>6</td>\n",
       "      <td>PB</td>\n",
       "      <td>F</td>\n",
       "      <td>38.0</td>\n",
       "      <td>1998-08-23 00:00:00</td>\n",
       "    </tr>\n",
       "    <tr>\n",
       "      <th>20038</th>\n",
       "      <td>12</td>\n",
       "      <td>DM</td>\n",
       "      <td>F</td>\n",
       "      <td>45.0</td>\n",
       "      <td>1992-05-30 00:00:00</td>\n",
       "    </tr>\n",
       "    <tr>\n",
       "      <th>32233</th>\n",
       "      <td>6</td>\n",
       "      <td>0</td>\n",
       "      <td>0</td>\n",
       "      <td>0.0</td>\n",
       "      <td>2001-06-26 00:00:00</td>\n",
       "    </tr>\n",
       "    <tr>\n",
       "      <th>35021</th>\n",
       "      <td>19</td>\n",
       "      <td>PP</td>\n",
       "      <td>M</td>\n",
       "      <td>15.0</td>\n",
       "      <td>2002-11-09 00:00:00</td>\n",
       "    </tr>\n",
       "    <tr>\n",
       "      <th>24288</th>\n",
       "      <td>1</td>\n",
       "      <td>PP</td>\n",
       "      <td>F</td>\n",
       "      <td>15.0</td>\n",
       "      <td>1996-08-14 00:00:00</td>\n",
       "    </tr>\n",
       "  </tbody>\n",
       "</table>\n",
       "</div>"
      ],
      "text/plain": [
       "           plot species sex    wgt                 date\n",
       "record_id                                              \n",
       "30510         4      DM   F   40.0  2000-03-05 00:00:00\n",
       "13159        15      PM   M   22.0  1987-07-26 00:00:00\n",
       "15038        20      NL   F  110.0  1988-11-05 00:00:00\n",
       "10525        10      RM   M   10.0  1985-06-16 00:00:00\n",
       "11351        23      RM   M   10.0  1986-04-12 00:00:00\n",
       "28432         6      PB   F   38.0  1998-08-23 00:00:00\n",
       "20038        12      DM   F   45.0  1992-05-30 00:00:00\n",
       "32233         6       0   0    0.0  2001-06-26 00:00:00\n",
       "35021        19      PP   M   15.0  2002-11-09 00:00:00\n",
       "24288         1      PP   F   15.0  1996-08-14 00:00:00"
      ]
     },
     "execution_count": 130,
     "metadata": {},
     "output_type": "execute_result"
    }
   ],
   "source": [
    "surveys_zero = surveys.fillna(0)\n",
    "surveys_zero.sample(10)"
   ]
  },
  {
   "cell_type": "markdown",
   "metadata": {},
   "source": [
    "***Так как видов у нас много, можем подсчитать сколько раз встречается тот или иной вид:***"
   ]
  },
  {
   "cell_type": "code",
   "execution_count": 131,
   "metadata": {},
   "outputs": [
    {
     "data": {
      "text/plain": [
       "DM    10596\n",
       "PP     3123\n",
       "DO     3027\n",
       "PB     2891\n",
       "RM     2609\n",
       "Name: species, dtype: int64"
      ]
     },
     "execution_count": 131,
     "metadata": {},
     "output_type": "execute_result"
    }
   ],
   "source": [
    "surveys['species'].value_counts().head()"
   ]
  },
  {
   "cell_type": "markdown",
   "metadata": {},
   "source": [
    "***Либо просто вывести их:***\n",
    "\n",
    "<a id='unique'></a>\n",
    "### .unique( ) ###\n",
    "*Возвращает объект, содержащий уникальные данные:*"
   ]
  },
  {
   "cell_type": "code",
   "execution_count": 132,
   "metadata": {},
   "outputs": [
    {
     "data": {
      "text/plain": [
       "array(['NL', 'DM', 'PF', 'PE', 'DS', 'PP', 'SH', 'OT', 'DO', 'OX', 'SS',\n",
       "       'OL', 'RM', nan, 'SA', 'PM', 'AH', 'DX', 'AB', 'CB', 'CM', 'CQ',\n",
       "       'RF', 'PC', 'PG', 'PH', 'PU', 'CV', 'UR', 'UP', 'ZL', 'UL', 'CS',\n",
       "       'SC', 'BA', 'SF', 'RO', 'AS', 'SO', 'PI', 'ST', 'CU', 'SU', 'RX',\n",
       "       'PB', 'PL', 'PX', 'CT', 'US'], dtype=object)"
      ]
     },
     "execution_count": 132,
     "metadata": {},
     "output_type": "execute_result"
    }
   ],
   "source": [
    "surveys['species'].unique()"
   ]
  },
  {
   "cell_type": "markdown",
   "metadata": {},
   "source": [
    "<a id='nunique'></a>\n",
    "### .nunique( ) ###\n",
    "*Возвращает их количество:*"
   ]
  },
  {
   "cell_type": "code",
   "execution_count": 133,
   "metadata": {},
   "outputs": [
    {
     "data": {
      "text/plain": [
       "48"
      ]
     },
     "execution_count": 133,
     "metadata": {},
     "output_type": "execute_result"
    }
   ],
   "source": [
    "surveys['species'].nunique()"
   ]
  },
  {
   "cell_type": "markdown",
   "metadata": {},
   "source": [
    "\n",
    "\n",
    "***Pandas позволяет составлять сводные таблицы по двум или нескольким параметрам:***\n",
    "\n",
    "<a id='crosstab'></a>\n",
    "### .crosstab( ) ###\n",
    "*Возвращает сводную таблицу:*"
   ]
  },
  {
   "cell_type": "code",
   "execution_count": 134,
   "metadata": {},
   "outputs": [
    {
     "data": {
      "text/html": [
       "<div>\n",
       "<style scoped>\n",
       "    .dataframe tbody tr th:only-of-type {\n",
       "        vertical-align: middle;\n",
       "    }\n",
       "\n",
       "    .dataframe tbody tr th {\n",
       "        vertical-align: top;\n",
       "    }\n",
       "\n",
       "    .dataframe thead th {\n",
       "        text-align: right;\n",
       "    }\n",
       "</style>\n",
       "<table border=\"1\" class=\"dataframe\">\n",
       "  <thead>\n",
       "    <tr style=\"text-align: right;\">\n",
       "      <th>plot</th>\n",
       "      <th>1</th>\n",
       "      <th>2</th>\n",
       "      <th>3</th>\n",
       "      <th>4</th>\n",
       "      <th>5</th>\n",
       "      <th>6</th>\n",
       "      <th>7</th>\n",
       "      <th>8</th>\n",
       "      <th>9</th>\n",
       "      <th>10</th>\n",
       "      <th>...</th>\n",
       "      <th>15</th>\n",
       "      <th>16</th>\n",
       "      <th>17</th>\n",
       "      <th>18</th>\n",
       "      <th>19</th>\n",
       "      <th>20</th>\n",
       "      <th>21</th>\n",
       "      <th>22</th>\n",
       "      <th>23</th>\n",
       "      <th>24</th>\n",
       "    </tr>\n",
       "    <tr>\n",
       "      <th>sex</th>\n",
       "      <th></th>\n",
       "      <th></th>\n",
       "      <th></th>\n",
       "      <th></th>\n",
       "      <th></th>\n",
       "      <th></th>\n",
       "      <th></th>\n",
       "      <th></th>\n",
       "      <th></th>\n",
       "      <th></th>\n",
       "      <th></th>\n",
       "      <th></th>\n",
       "      <th></th>\n",
       "      <th></th>\n",
       "      <th></th>\n",
       "      <th></th>\n",
       "      <th></th>\n",
       "      <th></th>\n",
       "      <th></th>\n",
       "      <th></th>\n",
       "      <th></th>\n",
       "    </tr>\n",
       "  </thead>\n",
       "  <tbody>\n",
       "    <tr>\n",
       "      <th>F</th>\n",
       "      <td>848</td>\n",
       "      <td>970</td>\n",
       "      <td>893</td>\n",
       "      <td>872</td>\n",
       "      <td>527</td>\n",
       "      <td>737</td>\n",
       "      <td>335</td>\n",
       "      <td>840</td>\n",
       "      <td>853</td>\n",
       "      <td>141</td>\n",
       "      <td>...</td>\n",
       "      <td>481</td>\n",
       "      <td>222</td>\n",
       "      <td>892</td>\n",
       "      <td>755</td>\n",
       "      <td>522</td>\n",
       "      <td>650</td>\n",
       "      <td>611</td>\n",
       "      <td>671</td>\n",
       "      <td>165</td>\n",
       "      <td>486</td>\n",
       "    </tr>\n",
       "    <tr>\n",
       "      <th>M</th>\n",
       "      <td>1095</td>\n",
       "      <td>1144</td>\n",
       "      <td>840</td>\n",
       "      <td>1030</td>\n",
       "      <td>586</td>\n",
       "      <td>764</td>\n",
       "      <td>307</td>\n",
       "      <td>983</td>\n",
       "      <td>1004</td>\n",
       "      <td>142</td>\n",
       "      <td>...</td>\n",
       "      <td>409</td>\n",
       "      <td>273</td>\n",
       "      <td>1053</td>\n",
       "      <td>626</td>\n",
       "      <td>581</td>\n",
       "      <td>613</td>\n",
       "      <td>451</td>\n",
       "      <td>673</td>\n",
       "      <td>207</td>\n",
       "      <td>485</td>\n",
       "    </tr>\n",
       "    <tr>\n",
       "      <th>P</th>\n",
       "      <td>0</td>\n",
       "      <td>0</td>\n",
       "      <td>0</td>\n",
       "      <td>0</td>\n",
       "      <td>0</td>\n",
       "      <td>0</td>\n",
       "      <td>0</td>\n",
       "      <td>1</td>\n",
       "      <td>0</td>\n",
       "      <td>0</td>\n",
       "      <td>...</td>\n",
       "      <td>0</td>\n",
       "      <td>0</td>\n",
       "      <td>0</td>\n",
       "      <td>0</td>\n",
       "      <td>0</td>\n",
       "      <td>0</td>\n",
       "      <td>0</td>\n",
       "      <td>0</td>\n",
       "      <td>0</td>\n",
       "      <td>0</td>\n",
       "    </tr>\n",
       "    <tr>\n",
       "      <th>R</th>\n",
       "      <td>0</td>\n",
       "      <td>0</td>\n",
       "      <td>0</td>\n",
       "      <td>0</td>\n",
       "      <td>1</td>\n",
       "      <td>0</td>\n",
       "      <td>1</td>\n",
       "      <td>0</td>\n",
       "      <td>0</td>\n",
       "      <td>0</td>\n",
       "      <td>...</td>\n",
       "      <td>0</td>\n",
       "      <td>0</td>\n",
       "      <td>0</td>\n",
       "      <td>0</td>\n",
       "      <td>0</td>\n",
       "      <td>0</td>\n",
       "      <td>0</td>\n",
       "      <td>0</td>\n",
       "      <td>0</td>\n",
       "      <td>1</td>\n",
       "    </tr>\n",
       "    <tr>\n",
       "      <th>Z</th>\n",
       "      <td>0</td>\n",
       "      <td>0</td>\n",
       "      <td>1</td>\n",
       "      <td>0</td>\n",
       "      <td>0</td>\n",
       "      <td>0</td>\n",
       "      <td>0</td>\n",
       "      <td>0</td>\n",
       "      <td>0</td>\n",
       "      <td>0</td>\n",
       "      <td>...</td>\n",
       "      <td>0</td>\n",
       "      <td>0</td>\n",
       "      <td>0</td>\n",
       "      <td>0</td>\n",
       "      <td>0</td>\n",
       "      <td>0</td>\n",
       "      <td>0</td>\n",
       "      <td>0</td>\n",
       "      <td>0</td>\n",
       "      <td>0</td>\n",
       "    </tr>\n",
       "  </tbody>\n",
       "</table>\n",
       "<p>5 rows × 24 columns</p>\n",
       "</div>"
      ],
      "text/plain": [
       "plot    1     2    3     4    5    6    7    8     9    10  ...   15   16  \\\n",
       "sex                                                         ...             \n",
       "F      848   970  893   872  527  737  335  840   853  141  ...  481  222   \n",
       "M     1095  1144  840  1030  586  764  307  983  1004  142  ...  409  273   \n",
       "P        0     0    0     0    0    0    0    1     0    0  ...    0    0   \n",
       "R        0     0    0     0    1    0    1    0     0    0  ...    0    0   \n",
       "Z        0     0    1     0    0    0    0    0     0    0  ...    0    0   \n",
       "\n",
       "plot    17   18   19   20   21   22   23   24  \n",
       "sex                                            \n",
       "F      892  755  522  650  611  671  165  486  \n",
       "M     1053  626  581  613  451  673  207  485  \n",
       "P        0    0    0    0    0    0    0    0  \n",
       "R        0    0    0    0    0    0    0    1  \n",
       "Z        0    0    0    0    0    0    0    0  \n",
       "\n",
       "[5 rows x 24 columns]"
      ]
     },
     "execution_count": 134,
     "metadata": {},
     "output_type": "execute_result"
    }
   ],
   "source": [
    "pd.crosstab(surveys['sex'],surveys['plot'])"
   ]
  },
  {
   "cell_type": "markdown",
   "metadata": {},
   "source": [
    "***Заметим, что помимо привычных M/F, в таблице присутствуют еще три строки***"
   ]
  },
  {
   "cell_type": "code",
   "execution_count": 135,
   "metadata": {},
   "outputs": [
    {
     "data": {
      "text/plain": [
       "genus       Chaetodipus\n",
       "species    penicillatus\n",
       "taxa             Rodent\n",
       "Name: PP, dtype: object"
      ]
     },
     "execution_count": 135,
     "metadata": {},
     "output_type": "execute_result"
    }
   ],
   "source": [
    "species.loc[surveys[surveys['sex'] == 'P'].species.to_string()[-2:] , :]"
   ]
  },
  {
   "cell_type": "code",
   "execution_count": 136,
   "metadata": {},
   "outputs": [
    {
     "data": {
      "text/plain": [
       "genus       Chaetodipus\n",
       "species    penicillatus\n",
       "taxa             Rodent\n",
       "Name: PP, dtype: object"
      ]
     },
     "execution_count": 136,
     "metadata": {},
     "output_type": "execute_result"
    }
   ],
   "source": [
    "species.loc[surveys[surveys['sex'] == 'Z'].species.to_string()[-2:] , :]"
   ]
  },
  {
   "cell_type": "code",
   "execution_count": 137,
   "metadata": {},
   "outputs": [
    {
     "data": {
      "text/plain": [
       "genus         Ammospermophilus\n",
       "species                harrisi\n",
       "taxa       Rodent-not censused\n",
       "Name: AH, dtype: object"
      ]
     },
     "execution_count": 137,
     "metadata": {},
     "output_type": "execute_result"
    }
   ],
   "source": [
    "species.loc[surveys[surveys['sex'] == 'R'].species.to_string()[-2:] , :]"
   ]
  },
  {
   "cell_type": "markdown",
   "metadata": {},
   "source": [
    "<i>По имени вида существа, мы найдем, что Chaetodipus penicillatus является сумчатым (pocket), а значит P — это тот, кто вынашивает, а Z - тот, кто не вынашивает детеныша в своей сумке. А Ammospermophilus harrisi напротив, практически не имеет внешних половых признаков, а значит ученые просто не смогли определить пол животного.</i>\n",
    "\n",
    "***Составив тепловую карту (библиотека seaborn) виды/участки, мы заметим, что есть виды, которые встречаются крайне редко на всех участках, а также участки, на которых количество животных заметно ниже, нежели на других:***"
   ]
  },
  {
   "cell_type": "code",
   "execution_count": 138,
   "metadata": {},
   "outputs": [
    {
     "data": {
      "image/png": "[encoded data removed]",
      "text/plain": [
       "<Figure size 432x288 with 2 Axes>"
      ]
     },
     "metadata": {
      "needs_background": "light"
     },
     "output_type": "display_data"
    }
   ],
   "source": [
    "seaborn.heatmap(pd.crosstab(surveys['species'],surveys['plot']));"
   ]
  },
  {
   "cell_type": "markdown",
   "metadata": {},
   "source": [
    "***Можем поставить условие, и показать какие виды встречаются меньше 50 раз:***\n",
    "\n",
    "*Т.к. результат будет в формате true/false, белый цвет покажет, что значение истинное, а черный, соответственно, что ложное*"
   ]
  },
  {
   "cell_type": "code",
   "execution_count": 139,
   "metadata": {},
   "outputs": [
    {
     "data": {
      "image/png": "[encoded data removed]",
      "text/plain": [
       "<Figure size 432x288 with 2 Axes>"
      ]
     },
     "metadata": {
      "needs_background": "light"
     },
     "output_type": "display_data"
    }
   ],
   "source": [
    "seaborn.heatmap(pd.crosstab(surveys['species'],surveys['plot']) < 50);"
   ]
  },
  {
   "cell_type": "markdown",
   "metadata": {},
   "source": [
    "***Проверяя весь датасет на вес существа, увидим, что подавляющая масса зарегистрированных существ весит меньше 50 грамм:***"
   ]
  },
  {
   "cell_type": "code",
   "execution_count": 140,
   "metadata": {},
   "outputs": [
    {
     "data": {
      "image/png": "[encoded data removed]",
      "text/plain": [
       "<Figure size 1080x288 with 4 Axes>"
      ]
     },
     "metadata": {
      "needs_background": "light"
     },
     "output_type": "display_data"
    }
   ],
   "source": [
    "fig, ax = plt.subplots(1,2,figsize=(15, 4))\n",
    "seaborn.heatmap(pd.crosstab(surveys['species'],surveys['wgt']), ax = ax[0]);\n",
    "seaborn.heatmap(pd.crosstab(surveys['species'],surveys['wgt'])<50, ax = ax[1]);"
   ]
  },
  {
   "cell_type": "markdown",
   "metadata": {},
   "source": [
    "***Мы можем создать для них отдельный датасет и далее работать с ним:***"
   ]
  },
  {
   "cell_type": "code",
   "execution_count": 141,
   "metadata": {},
   "outputs": [
    {
     "data": {
      "image/png": "[encoded data removed]",
      "text/plain": [
       "<Figure size 1080x288 with 4 Axes>"
      ]
     },
     "metadata": {
      "needs_background": "light"
     },
     "output_type": "display_data"
    }
   ],
   "source": [
    "smallCreatures = surveys[surveys['wgt']< 50]\n",
    "\n",
    "fig, ax = plt.subplots(1,2,figsize=(15, 4))\n",
    "seaborn.heatmap(pd.crosstab(smallCreatures['species'],smallCreatures['wgt']), ax = ax[0]);\n",
    "seaborn.heatmap(pd.crosstab(smallCreatures['species'],smallCreatures['wgt'])>50, ax = ax[1]);"
   ]
  },
  {
   "cell_type": "markdown",
   "metadata": {},
   "source": [
    "***Построим ящик с усами для веса самого часто наблюдаемого существа***"
   ]
  },
  {
   "cell_type": "code",
   "execution_count": 142,
   "metadata": {},
   "outputs": [
    {
     "data": {
      "text/plain": [
       "DM    10596\n",
       "PP     3123\n",
       "DO     3027\n",
       "Name: species, dtype: int64"
      ]
     },
     "execution_count": 142,
     "metadata": {},
     "output_type": "execute_result"
    }
   ],
   "source": [
    "surveys['species'].value_counts().head(3)"
   ]
  },
  {
   "cell_type": "markdown",
   "metadata": {},
   "source": [
    "*Мы видим, что такое вид этого существа промаркирован как DM, можем вывести информацию о нем:*"
   ]
  },
  {
   "cell_type": "code",
   "execution_count": 143,
   "metadata": {},
   "outputs": [
    {
     "data": {
      "text/plain": [
       "genus      Dipodomys\n",
       "species     merriami\n",
       "taxa          Rodent\n",
       "Name: DM, dtype: object"
      ]
     },
     "execution_count": 143,
     "metadata": {},
     "output_type": "execute_result"
    }
   ],
   "source": [
    "species.loc[surveys[surveys['species'] == 'DM'].species.to_string()[-2:] , :]"
   ]
  },
  {
   "cell_type": "code",
   "execution_count": 144,
   "metadata": {},
   "outputs": [
    {
     "data": {
      "text/plain": [
       "<matplotlib.axes._subplots.AxesSubplot at 0x150972b9400>"
      ]
     },
     "execution_count": 144,
     "metadata": {},
     "output_type": "execute_result"
    },
    {
     "data": {
      "image/png": "[encoded data removed]",
      "text/plain": [
       "<Figure size 432x288 with 1 Axes>"
      ]
     },
     "metadata": {
      "needs_background": "light"
     },
     "output_type": "display_data"
    }
   ],
   "source": [
    "seaborn.boxplot(surveys[surveys['species'] == 'DM']['wgt'])"
   ]
  },
  {
   "cell_type": "markdown",
   "metadata": {},
   "source": [
    "Мы видим, что медианный вес находится в районе ~43 грамм, а границы ящика примерно на 40 и 47 граммах. Значит примерно четверть замеров показала, что вес меньше, чем 40, и еще четверть больше 47. Усы находятся на 1,5 интерквантильных расстояния (ширины ящика) от медианы, то, что выбивается за эти усы, можем считать выбросами, слишком малыми значениями или слишком большими"
   ]
  },
  {
   "cell_type": "markdown",
   "metadata": {},
   "source": [
    "<a id='set3'></a>\n",
    "<center><h1>Теперь возьмем третий массив данных:</h1></center>\n",
    "\n",
    "*Этот датасет содержит данные о книгах, находящихся в Британской Библиотеке; он отличается тем, что данные в нем неоднородны и перед их использованием, их нужно \"почистить\"*"
   ]
  },
  {
   "cell_type": "code",
   "execution_count": 145,
   "metadata": {
    "scrolled": false
   },
   "outputs": [
    {
     "data": {
      "text/html": [
       "<div>\n",
       "<style scoped>\n",
       "    .dataframe tbody tr th:only-of-type {\n",
       "        vertical-align: middle;\n",
       "    }\n",
       "\n",
       "    .dataframe tbody tr th {\n",
       "        vertical-align: top;\n",
       "    }\n",
       "\n",
       "    .dataframe thead th {\n",
       "        text-align: right;\n",
       "    }\n",
       "</style>\n",
       "<table border=\"1\" class=\"dataframe\">\n",
       "  <thead>\n",
       "    <tr style=\"text-align: right;\">\n",
       "      <th></th>\n",
       "      <th>Edition Statement</th>\n",
       "      <th>Place of Publication</th>\n",
       "      <th>Date of Publication</th>\n",
       "      <th>Publisher</th>\n",
       "      <th>Title</th>\n",
       "      <th>Author</th>\n",
       "      <th>Contributors</th>\n",
       "      <th>Corporate Author</th>\n",
       "      <th>Corporate Contributors</th>\n",
       "      <th>Former owner</th>\n",
       "      <th>Engraver</th>\n",
       "      <th>Issuance type</th>\n",
       "      <th>Flickr URL</th>\n",
       "      <th>Shelfmarks</th>\n",
       "    </tr>\n",
       "    <tr>\n",
       "      <th>Identifier</th>\n",
       "      <th></th>\n",
       "      <th></th>\n",
       "      <th></th>\n",
       "      <th></th>\n",
       "      <th></th>\n",
       "      <th></th>\n",
       "      <th></th>\n",
       "      <th></th>\n",
       "      <th></th>\n",
       "      <th></th>\n",
       "      <th></th>\n",
       "      <th></th>\n",
       "      <th></th>\n",
       "      <th></th>\n",
       "    </tr>\n",
       "  </thead>\n",
       "  <tbody>\n",
       "    <tr>\n",
       "      <th>2090435</th>\n",
       "      <td>NaN</td>\n",
       "      <td>Paris</td>\n",
       "      <td>1885</td>\n",
       "      <td>NaN</td>\n",
       "      <td>Vingt ans à Madagascar ... d'après les notes...</td>\n",
       "      <td>LA VAISSIÈRE, Philippe Claude Marie Léonce de.</td>\n",
       "      <td>ABINAL, Frédéric Guillaume Patrice.</td>\n",
       "      <td>NaN</td>\n",
       "      <td>NaN</td>\n",
       "      <td>NaN</td>\n",
       "      <td>NaN</td>\n",
       "      <td>monographic</td>\n",
       "      <td>http://www.flickr.com/photos/britishlibrary/ta...</td>\n",
       "      <td>British Library HMNTS 10097.df.23.</td>\n",
       "    </tr>\n",
       "    <tr>\n",
       "      <th>3142238</th>\n",
       "      <td>NaN</td>\n",
       "      <td>London</td>\n",
       "      <td>1861</td>\n",
       "      <td>NaN</td>\n",
       "      <td>Roman Candles [Sketches of manners and customs...</td>\n",
       "      <td>NaN</td>\n",
       "      <td>Fitzgerald, Percy Hetherington</td>\n",
       "      <td>NaN</td>\n",
       "      <td>NaN</td>\n",
       "      <td>NaN</td>\n",
       "      <td>NaN</td>\n",
       "      <td>monographic</td>\n",
       "      <td>http://www.flickr.com/photos/britishlibrary/ta...</td>\n",
       "      <td>British Library HMNTS 010136.f.5.</td>\n",
       "    </tr>\n",
       "    <tr>\n",
       "      <th>2599812</th>\n",
       "      <td>NaN</td>\n",
       "      <td>Leipzig</td>\n",
       "      <td>1887</td>\n",
       "      <td>NaN</td>\n",
       "      <td>Gustav Nachtigals Reisen in der Sahara und im ...</td>\n",
       "      <td>NACHTIGAL, Gustav.</td>\n",
       "      <td>FRAENKEL, Albert.</td>\n",
       "      <td>NaN</td>\n",
       "      <td>NaN</td>\n",
       "      <td>NaN</td>\n",
       "      <td>NaN</td>\n",
       "      <td>monographic</td>\n",
       "      <td>http://www.flickr.com/photos/britishlibrary/ta...</td>\n",
       "      <td>British Library HMNTS 10059.ee.16.</td>\n",
       "    </tr>\n",
       "    <tr>\n",
       "      <th>3992166</th>\n",
       "      <td>Third edition.</td>\n",
       "      <td>London</td>\n",
       "      <td>1813</td>\n",
       "      <td>NaN</td>\n",
       "      <td>[The Expedition of Cyrus into Persia; and the ...</td>\n",
       "      <td>Xenophon.</td>\n",
       "      <td>SPELMAN, Edward.</td>\n",
       "      <td>NaN</td>\n",
       "      <td>NaN</td>\n",
       "      <td>NaN</td>\n",
       "      <td>NaN</td>\n",
       "      <td>monographic</td>\n",
       "      <td>http://www.flickr.com/photos/britishlibrary/ta...</td>\n",
       "      <td>British Library HMNTS 1309.e.3.(1.)</td>\n",
       "    </tr>\n",
       "    <tr>\n",
       "      <th>2719950</th>\n",
       "      <td>NaN</td>\n",
       "      <td>Mexico</td>\n",
       "      <td>1853</td>\n",
       "      <td>NaN</td>\n",
       "      <td>Noticia historíca de la Conjuracion del Marqu...</td>\n",
       "      <td>OROZCO Y BERRA, Manuel.</td>\n",
       "      <td>CORTÉS, Martín - Marquis del Valle</td>\n",
       "      <td>NaN</td>\n",
       "      <td>NaN</td>\n",
       "      <td>NaN</td>\n",
       "      <td>NaN</td>\n",
       "      <td>monographic</td>\n",
       "      <td>http://www.flickr.com/photos/britishlibrary/ta...</td>\n",
       "      <td>British Library HMNTS 9772.e.23.</td>\n",
       "    </tr>\n",
       "  </tbody>\n",
       "</table>\n",
       "</div>"
      ],
      "text/plain": [
       "           Edition Statement Place of Publication Date of Publication  \\\n",
       "Identifier                                                              \n",
       "2090435                  NaN                Paris                1885   \n",
       "3142238                  NaN               London                1861   \n",
       "2599812                  NaN              Leipzig                1887   \n",
       "3992166       Third edition.               London                1813   \n",
       "2719950                  NaN               Mexico                1853   \n",
       "\n",
       "           Publisher                                              Title  \\\n",
       "Identifier                                                                \n",
       "2090435          NaN  Vingt ans à Madagascar ... d'après les notes...   \n",
       "3142238          NaN  Roman Candles [Sketches of manners and customs...   \n",
       "2599812          NaN  Gustav Nachtigals Reisen in der Sahara und im ...   \n",
       "3992166          NaN  [The Expedition of Cyrus into Persia; and the ...   \n",
       "2719950          NaN  Noticia historíca de la Conjuracion del Marqu...   \n",
       "\n",
       "                                                      Author  \\\n",
       "Identifier                                                     \n",
       "2090435     LA VAISSIÈRE, Philippe Claude Marie Léonce de.   \n",
       "3142238                                                  NaN   \n",
       "2599812                                   NACHTIGAL, Gustav.   \n",
       "3992166                                            Xenophon.   \n",
       "2719950                              OROZCO Y BERRA, Manuel.   \n",
       "\n",
       "                                     Contributors  Corporate Author  \\\n",
       "Identifier                                                            \n",
       "2090435     ABINAL, Frédéric Guillaume Patrice.               NaN   \n",
       "3142238            Fitzgerald, Percy Hetherington               NaN   \n",
       "2599812                         FRAENKEL, Albert.               NaN   \n",
       "3992166                          SPELMAN, Edward.               NaN   \n",
       "2719950      CORTÉS, Martín - Marquis del Valle               NaN   \n",
       "\n",
       "            Corporate Contributors Former owner  Engraver Issuance type  \\\n",
       "Identifier                                                                \n",
       "2090435                        NaN          NaN       NaN   monographic   \n",
       "3142238                        NaN          NaN       NaN   monographic   \n",
       "2599812                        NaN          NaN       NaN   monographic   \n",
       "3992166                        NaN          NaN       NaN   monographic   \n",
       "2719950                        NaN          NaN       NaN   monographic   \n",
       "\n",
       "                                                   Flickr URL  \\\n",
       "Identifier                                                      \n",
       "2090435     http://www.flickr.com/photos/britishlibrary/ta...   \n",
       "3142238     http://www.flickr.com/photos/britishlibrary/ta...   \n",
       "2599812     http://www.flickr.com/photos/britishlibrary/ta...   \n",
       "3992166     http://www.flickr.com/photos/britishlibrary/ta...   \n",
       "2719950     http://www.flickr.com/photos/britishlibrary/ta...   \n",
       "\n",
       "                                     Shelfmarks  \n",
       "Identifier                                       \n",
       "2090435      British Library HMNTS 10097.df.23.  \n",
       "3142238       British Library HMNTS 010136.f.5.  \n",
       "2599812      British Library HMNTS 10059.ee.16.  \n",
       "3992166     British Library HMNTS 1309.e.3.(1.)  \n",
       "2719950        British Library HMNTS 9772.e.23.  "
      ]
     },
     "execution_count": 145,
     "metadata": {},
     "output_type": "execute_result"
    }
   ],
   "source": [
    "librarySet = pd.read_csv('./data/3_library/BL-Flickr-Images-Book.csv', index_col=[0])\n",
    "librarySet.sample(5)"
   ]
  },
  {
   "cell_type": "markdown",
   "metadata": {},
   "source": [
    "***Видим, что многие столбцы содержат пустые, либо неинформативные значения***"
   ]
  },
  {
   "cell_type": "code",
   "execution_count": 146,
   "metadata": {},
   "outputs": [
    {
     "data": {
      "text/plain": [
       "0"
      ]
     },
     "execution_count": 146,
     "metadata": {},
     "output_type": "execute_result"
    }
   ],
   "source": [
    "librarySet['Corporate Author'].nunique()"
   ]
  },
  {
   "cell_type": "code",
   "execution_count": 147,
   "metadata": {},
   "outputs": [
    {
     "data": {
      "text/plain": [
       "array(['British Library HMNTS 12641.b.30.',\n",
       "       'British Library HMNTS 12626.cc.2.',\n",
       "       'British Library HMNTS 12625.dd.1.', ...,\n",
       "       'British Library HMNTS|British Library HMNTS 192.e.3-10.|British Library HMNTS G.3246-53.|British Library HMNTS 578.k.38.|British Library HMNTS 1303.m.5-9.|British Library HMNTS 579.k.2.(2.)',\n",
       "       'British Library HMNTS|British Library HMNTS 10353.e.8.',\n",
       "       'British Library HMNTS|British Library HMNTS 796.i.18-21.|British Library HMNTS G.13643-50.'],\n",
       "      dtype=object)"
      ]
     },
     "execution_count": 147,
     "metadata": {},
     "output_type": "execute_result"
    }
   ],
   "source": [
    "librarySet['Shelfmarks'].unique()"
   ]
  },
  {
   "cell_type": "markdown",
   "metadata": {},
   "source": [
    "***Удалим колонки с неважными для анализа данными***"
   ]
  },
  {
   "cell_type": "code",
   "execution_count": 148,
   "metadata": {},
   "outputs": [
    {
     "data": {
      "text/html": [
       "<div>\n",
       "<style scoped>\n",
       "    .dataframe tbody tr th:only-of-type {\n",
       "        vertical-align: middle;\n",
       "    }\n",
       "\n",
       "    .dataframe tbody tr th {\n",
       "        vertical-align: top;\n",
       "    }\n",
       "\n",
       "    .dataframe thead th {\n",
       "        text-align: right;\n",
       "    }\n",
       "</style>\n",
       "<table border=\"1\" class=\"dataframe\">\n",
       "  <thead>\n",
       "    <tr style=\"text-align: right;\">\n",
       "      <th></th>\n",
       "      <th>Place of Publication</th>\n",
       "      <th>Date of Publication</th>\n",
       "      <th>Publisher</th>\n",
       "      <th>Title</th>\n",
       "      <th>Author</th>\n",
       "      <th>Flickr URL</th>\n",
       "    </tr>\n",
       "    <tr>\n",
       "      <th>Identifier</th>\n",
       "      <th></th>\n",
       "      <th></th>\n",
       "      <th></th>\n",
       "      <th></th>\n",
       "      <th></th>\n",
       "      <th></th>\n",
       "    </tr>\n",
       "  </thead>\n",
       "  <tbody>\n",
       "    <tr>\n",
       "      <th>206</th>\n",
       "      <td>London</td>\n",
       "      <td>1879 [1878]</td>\n",
       "      <td>S. Tinsley &amp; Co.</td>\n",
       "      <td>Walter Forbes. [A novel.] By A. A</td>\n",
       "      <td>A. A.</td>\n",
       "      <td>http://www.flickr.com/photos/britishlibrary/ta...</td>\n",
       "    </tr>\n",
       "    <tr>\n",
       "      <th>216</th>\n",
       "      <td>London; Virtue &amp; Yorston</td>\n",
       "      <td>1868</td>\n",
       "      <td>Virtue &amp; Co.</td>\n",
       "      <td>All for Greed. [A novel. The dedication signed...</td>\n",
       "      <td>A., A. A.</td>\n",
       "      <td>http://www.flickr.com/photos/britishlibrary/ta...</td>\n",
       "    </tr>\n",
       "    <tr>\n",
       "      <th>218</th>\n",
       "      <td>London</td>\n",
       "      <td>1869</td>\n",
       "      <td>Bradbury, Evans &amp; Co.</td>\n",
       "      <td>Love the Avenger. By the author of “All for Gr...</td>\n",
       "      <td>A., A. A.</td>\n",
       "      <td>http://www.flickr.com/photos/britishlibrary/ta...</td>\n",
       "    </tr>\n",
       "    <tr>\n",
       "      <th>472</th>\n",
       "      <td>London</td>\n",
       "      <td>1851</td>\n",
       "      <td>James Darling</td>\n",
       "      <td>Welsh Sketches, chiefly ecclesiastical, to the...</td>\n",
       "      <td>A., E. S.</td>\n",
       "      <td>http://www.flickr.com/photos/britishlibrary/ta...</td>\n",
       "    </tr>\n",
       "    <tr>\n",
       "      <th>480</th>\n",
       "      <td>London</td>\n",
       "      <td>1857</td>\n",
       "      <td>Wertheim &amp; Macintosh</td>\n",
       "      <td>[The World in which I live, and my place in it...</td>\n",
       "      <td>A., E. S.</td>\n",
       "      <td>http://www.flickr.com/photos/britishlibrary/ta...</td>\n",
       "    </tr>\n",
       "  </tbody>\n",
       "</table>\n",
       "</div>"
      ],
      "text/plain": [
       "                Place of Publication Date of Publication  \\\n",
       "Identifier                                                 \n",
       "206                           London         1879 [1878]   \n",
       "216         London; Virtue & Yorston                1868   \n",
       "218                           London                1869   \n",
       "472                           London                1851   \n",
       "480                           London                1857   \n",
       "\n",
       "                        Publisher  \\\n",
       "Identifier                          \n",
       "206              S. Tinsley & Co.   \n",
       "216                  Virtue & Co.   \n",
       "218         Bradbury, Evans & Co.   \n",
       "472                 James Darling   \n",
       "480          Wertheim & Macintosh   \n",
       "\n",
       "                                                        Title     Author  \\\n",
       "Identifier                                                                 \n",
       "206                         Walter Forbes. [A novel.] By A. A      A. A.   \n",
       "216         All for Greed. [A novel. The dedication signed...  A., A. A.   \n",
       "218         Love the Avenger. By the author of “All for Gr...  A., A. A.   \n",
       "472         Welsh Sketches, chiefly ecclesiastical, to the...  A., E. S.   \n",
       "480         [The World in which I live, and my place in it...  A., E. S.   \n",
       "\n",
       "                                                   Flickr URL  \n",
       "Identifier                                                     \n",
       "206         http://www.flickr.com/photos/britishlibrary/ta...  \n",
       "216         http://www.flickr.com/photos/britishlibrary/ta...  \n",
       "218         http://www.flickr.com/photos/britishlibrary/ta...  \n",
       "472         http://www.flickr.com/photos/britishlibrary/ta...  \n",
       "480         http://www.flickr.com/photos/britishlibrary/ta...  "
      ]
     },
     "execution_count": 148,
     "metadata": {},
     "output_type": "execute_result"
    }
   ],
   "source": [
    "to_drop = ['Edition Statement', 'Corporate Author', 'Corporate Contributors', 'Former owner', 'Engraver' \\\n",
    "           , 'Contributors', 'Issuance type', 'Shelfmarks']\n",
    "\n",
    "librarySet.drop(to_drop, inplace=True, axis=1)\n",
    "\n",
    "librarySet.head()"
   ]
  },
  {
   "cell_type": "markdown",
   "metadata": {},
   "source": [
    "***Как видим, даты тоже местами некорректны:***\n",
    "\n",
    "<br>Приведем даты к четырехзначному числовому формату *(в данный момент, у дат тип object)* и вычислим какая доля из них не имеет даты вовсе:"
   ]
  },
  {
   "cell_type": "code",
   "execution_count": 149,
   "metadata": {},
   "outputs": [
    {
     "data": {
      "text/plain": [
       "Identifier\n",
       "1905           1888\n",
       "1929    1839, 38-54\n",
       "2836           1897\n",
       "2854           1865\n",
       "2956        1860-63\n",
       "2957           1873\n",
       "3017           1866\n",
       "3131           1899\n",
       "4598           1814\n",
       "4884           1820\n",
       "Name: Date of Publication, dtype: object"
      ]
     },
     "execution_count": 149,
     "metadata": {},
     "output_type": "execute_result"
    }
   ],
   "source": [
    "librarySet.loc[1905:, 'Date of Publication'].head(10)"
   ]
  },
  {
   "cell_type": "markdown",
   "metadata": {},
   "source": [
    "<a id='is_numeric'></a>\n",
    "### .to_numeric( ) ###\n",
    "*Проверяет на то, является ли объект числом:*\n",
    "\n",
    "<a id='isnull'></a>\n",
    "### .isnull( ) ###\n",
    "*Проверяет на то, является ли объект нулевым:*"
   ]
  },
  {
   "cell_type": "code",
   "execution_count": 150,
   "metadata": {},
   "outputs": [
    {
     "data": {
      "text/plain": [
       "0.11717147339205986"
      ]
     },
     "execution_count": 150,
     "metadata": {},
     "output_type": "execute_result"
    }
   ],
   "source": [
    "extr = librarySet['Date of Publication'].str.extract(r'^(\\d{4})', expand=False) # Ищет первые 4 цифры\n",
    "librarySet['Date of Publication'] = pd.to_numeric(extr, downcast='signed')\n",
    "\n",
    "librarySet['Date of Publication'].isnull().sum() / len(librarySet)"
   ]
  },
  {
   "cell_type": "markdown",
   "metadata": {},
   "source": [
    "***Каждая десятая книга не имеет даты. Построим график распределения:***"
   ]
  },
  {
   "cell_type": "code",
   "execution_count": 151,
   "metadata": {},
   "outputs": [
    {
     "data": {
      "image/png": "[encoded data removed]",
      "text/plain": [
       "<Figure size 432x288 with 1 Axes>"
      ]
     },
     "metadata": {
      "needs_background": "light"
     },
     "output_type": "display_data"
    }
   ],
   "source": [
    "librarySet['Date of Publication'].hist();"
   ]
  },
  {
   "cell_type": "markdown",
   "metadata": {},
   "source": [
    "***Так как датасет очень неоднородный, например, места тут зачастую дублируются на разных языках, его нужно чистить от повторяющихся или некачественных записей***"
   ]
  },
  {
   "cell_type": "code",
   "execution_count": 152,
   "metadata": {},
   "outputs": [
    {
     "data": {
      "text/plain": [
       "Vervins                                         1\n",
       "William Blackwood & Sons                        1\n",
       "London; Oxford                                  1\n",
       "Potsdam, Nauen [printed]                        1\n",
       "Lee                                             1\n",
       "pp. 161. J. F. Shaw and Co.: London, [1886.]    1\n",
       "Carmarthen                                      1\n",
       "pp. 60. Privately printed, 1876                 1\n",
       "Bliss, Sands, & Foster                          1\n",
       "Boston [U.S.]; Cambridge [U.S. printed]         1\n",
       "Name: Place of Publication, dtype: int64"
      ]
     },
     "execution_count": 152,
     "metadata": {},
     "output_type": "execute_result"
    }
   ],
   "source": [
    "librarySet['Place of Publication'].value_counts().tail(10)"
   ]
  },
  {
   "cell_type": "markdown",
   "metadata": {},
   "source": [
    "***Покажем на примере городов Лондон и Оксфорд***"
   ]
  },
  {
   "cell_type": "code",
   "execution_count": 153,
   "metadata": {},
   "outputs": [
    {
     "data": {
      "text/plain": [
       "London            4219\n",
       "Paris              479\n",
       "Edinburgh          208\n",
       "New York           193\n",
       "Leipzig            119\n",
       "Philadelphia        89\n",
       "Berlin              70\n",
       "Boston [Mass.]      52\n",
       "Oxford              49\n",
       "Dublin              48\n",
       "Name: Place of Publication, dtype: int64"
      ]
     },
     "execution_count": 153,
     "metadata": {},
     "output_type": "execute_result"
    }
   ],
   "source": [
    "pub = librarySet['Place of Publication']\n",
    "\n",
    "london = pub.str.contains('London')\n",
    "london[:5]\n",
    "\n",
    "oxford = pub.str.contains('Oxford')\n",
    "\n",
    "librarySet['Place of Publication'] = np.where(london, 'London',\n",
    "                                      np.where(oxford, 'Oxford',\n",
    "                                               pub.str.replace('-', ' ')))\n",
    "\n",
    "librarySet['Place of Publication'].value_counts().head(10)"
   ]
  },
  {
   "cell_type": "markdown",
   "metadata": {},
   "source": [
    "<h1><center> Вывод </center></h1>\n",
    "\n",
    "<p>Библиотека Pandas - очень мощная библиотека для обработки больших массивов данных, их подготовки и непосредственно анализа и моделирования. Пакет прежде всего предназначен для очистки и первичной оценки данных по общим показателям. Статистическим пакетом он в полном смысле не является, однако наборы данных типов DataFrame и Series применяются в качестве входных в большинстве модулей анализа данных и машинного обучения (SciPy, Scikit-Learn и других).\n",
    "\n",
    "</p>"
   ]
  }
 ],
 "metadata": {
  "kernelspec": {
   "display_name": "Python 3",
   "language": "python",
   "name": "python3"
  },
  "language_info": {
   "codemirror_mode": {
    "name": "ipython",
    "version": 3
   },
   "file_extension": ".py",
   "mimetype": "text/x-python",
   "name": "python",
   "nbconvert_exporter": "python",
   "pygments_lexer": "ipython3",
   "version": "3.7.3"
  },
  "widgets": {
   "application/vnd.jupyter.widget-state+json": {
    "state": {},
    "version_major": 2,
    "version_minor": 0
   }
  }
 },
 "nbformat": 4,
 "nbformat_minor": 4
}
